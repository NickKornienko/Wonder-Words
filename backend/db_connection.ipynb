{
 "cells": [
  {
   "cell_type": "code",
   "execution_count": 1,
   "metadata": {},
   "outputs": [],
   "source": [
    "from sqlalchemy import create_engine, text, MetaData, Table, Column, Integer, String, ForeignKey,inspect\n",
    "import pandas as pd\n",
    "from db.db import db, Conversation, Message, SenderType\n",
    "from flask import Flask"
   ]
  },
  {
   "cell_type": "code",
   "execution_count": 5,
   "metadata": {},
   "outputs": [
    {
     "name": "stdout",
     "output_type": "stream",
     "text": [
      "ID: 1, User ID: test_user, Created At: 2025-03-03 20:57:42\n",
      "ID: 2, User ID: test_user, Created At: 2025-03-03 20:57:55\n",
      "ID: 3, User ID: test_user, Created At: 2025-03-03 20:59:17\n",
      "ID: 4, User ID: test_user, Created At: 2025-03-05 23:05:59\n",
      "ID: 5, User ID: test_user, Created At: 2025-03-05 23:06:02\n",
      "ID: 6, User ID: test_user, Created At: 2025-03-06 01:32:53\n",
      "ID: 7, User ID: test_user, Created At: 2025-03-06 01:32:55\n",
      "ID: 8, User ID: test_user, Created At: 2025-03-06 01:34:30\n",
      "ID: 9, User ID: test_user, Created At: 2025-03-06 01:45:57\n",
      "ID: 10, User ID: test_user, Created At: 2025-03-06 01:46:15\n",
      "ID: 11, User ID: test_user, Created At: 2025-03-06 01:51:58\n",
      "ID: 12, User ID: test_user, Created At: 2025-03-06 01:52:00\n",
      "ID: 13, User ID: test_user, Created At: 2025-03-06 01:58:37\n",
      "ID: 14, User ID: test_user, Created At: 2025-03-06 01:59:51\n",
      "ID: 15, User ID: test_user, Created At: 2025-03-06 01:59:54\n",
      "ID: 16, User ID: test_user, Created At: 2025-03-06 02:02:31\n"
     ]
    }
   ],
   "source": [
    "# Initialize the Flask app and SQLAlchemy\n",
    "app = Flask(__name__)\n",
    "app.config['SQLALCHEMY_DATABASE_URI'] = 'sqlite:///conversations.db'\n",
    "app.config['SQLALCHEMY_TRACK_MODIFICATIONS'] = False\n",
    "db.init_app(app)\n",
    "\n",
    "# Create an application context\n",
    "app.app_context().push()\n",
    "\n",
    "# Query all conversations\n",
    "conversations = Conversation.query.all()\n",
    "\n",
    "# Access and print the attributes of each conversation\n",
    "for conversation in conversations:\n",
    "    print(f\"ID: {conversation.id}, User ID: {conversation.user_id}, Created At: {conversation.created_at}\")"
   ]
  },
  {
   "cell_type": "code",
   "execution_count": 9,
   "metadata": {},
   "outputs": [],
   "source": [
    "# delete messages with message.sender_type == 'user'\n",
    "messages = Message.query.filter_by(sender_type='user').delete()"
   ]
  },
  {
   "cell_type": "code",
   "execution_count": 10,
   "metadata": {},
   "outputs": [
    {
     "name": "stdout",
     "output_type": "stream",
     "text": [
      "ID: 1, Conversation ID: 1, Sender Type: SenderType.USER, Content: hello\n",
      "ID: 2, Conversation ID: 2, Sender Type: SenderType.MODEL, Content: Once upon a time in a colorful garden, a little butterfly named Bella dreamt of discovering new flowers. One sunny day, she fluttered to a sparkling blue blossom that sang sweet melodies. The flower, named Melody, told Bella about a hidden rainbow forest where flowers danced under the moonlight. Excited, Bella followed Melody's directions and soon found herself in a magical place filled with glowing flowers swaying in the breeze! Bella made lots of new friends, and every night, they danced and sang together. From that day on, Bella visited the rainbow forest, sharing laughter and joy with her friends.\n",
      "ID: 3, Conversation ID: 3, Sender Type: SenderType.MODEL, Content: Once upon a time, in a magical land, there was a frozen cloud named Flurry. Flurry loved to sprinkle tiny snowflakes on the ground below, making the world sparkle and shimmer. One day, she noticed a sad little flower wilting in the warm sun. Flurry decided to help! She gathered her fluffiest snowflakes and gently let them fall onto the flower. The cold embraced the flower, reviving its colors. The flower smiled brightly, and together they danced in the breeze. From that day on, Flurry knew her snowflakes could bring joy, and she sprinkled them over the land every winter!\n",
      "ID: 4, Conversation ID: 5, Sender Type: SenderType.MODEL, Content: **Title: The Bridge to Wonder**\n",
      "\n",
      "Once upon a time, Mia and Leo discovered an old, sparkling bridge in the woods. Curiosity sparkled in their eyes as they crossed it together. On the other side, they found a magical realm filled with talking animals and candy-colored trees! A wise owl named Oliver guided them through fields of giggling flowers, while friendly unicorns danced around them. They solved riddles to unlock the Rainbow Castle, discovering friendship and courage. As the sun set, they promised to return, crossing back over the bridge, hearts full of magic and tales to tell.\n",
      "\n",
      "**Vocabulary Words:** Adventure, Magical, Bridge, Friendship, Courage, Owl, Unicorn, Castle.\n",
      "ID: 5, Conversation ID: 7, Sender Type: SenderType.MODEL, Content: Once upon a time, in the magical land of Dino-Delight, dinosaurs roamed in harmony. Brightly colored brontosauruses danced under rainbow waterfalls, while playful triceratops raced through fields of candy flowers. One day, a curious little velociraptor named Vinnie discovered a sparkling stone that granted wishes! Vinnie wished for a grand feast, and soon, the dinosaurs gathered to share delicious treats like chocolate leaves and berry boulders. They laughed and played, realizing that the best magic was friendship. From that day on, Dino-Delight was a place where wishes and adventures never ended, all thanks to Vinnie's special stone!\n",
      "ID: 6, Conversation ID: 8, Sender Type: SenderType.MODEL, Content: In a magical land called Axolotlville, bright colors danced in the water. Axolotls with shimmering scales played hide and seek among the lily pads. One sunny day, a young axolotl named Luna discovered a glowing pearl. When she touched it, she granted her friends a day of flight! Together, they soared above the shimmering lakes, touching the clouds and giggling with joy. They explored rainbow waterfalls and visited the land of the glowing flowers. As the sun set, the pearl's magic faded, but the memories of their adventure sparkled in their hearts forever, filling Axolotlville with laughter and friendship.\n",
      "ID: 7, Conversation ID: 9, Sender Type: SenderType.USER, Content: hi\n",
      "ID: 8, Conversation ID: 10, Sender Type: SenderType.MODEL, Content: Once upon a time in a lush green forest, there lived a cheerful squirrel named Sammy. Sammy loved to collect acorns, but one day, he found a golden acorn! He was excited and decided to share it with his friends. Sammy invited everyone for an acorn feast under the big oak tree. All the animals came, and they played games and shared stories. Everyone agreed that friendship was more valuable than any golden treasure. From that day on, Sammy learned that sharing brought more joy than keeping things to himself. And they all lived happily together in the forest.\n",
      "ID: 9, Conversation ID: 12, Sender Type: SenderType.MODEL, Content: Once in a cozy little village, there lived a curious cat named Whiskers. Whiskers loved to explore, climbing trees and chasing butterflies. One sunny day, he discovered a hidden path leading to a sparkling stream. At the stream, he met a friendly turtle named Tommy who shared stories of the enchanted forest nearby. Together, they set off on an adventure, solving riddles and making new friends along the way. As the sun set, Whiskers realized that every day is an adventure when you have a curious heart and good friends. With a joyful purr, he headed home, dreaming of tomorrow's journey.\n",
      "ID: 10, Conversation ID: 13, Sender Type: SenderType.MODEL, Content: Once upon a time, in a bright green pond, lived a little turtle named Timmy. Timmy loved to explore but was always slow. One sunny day, he heard about a magical flower at the top of a hill. Determined to see it, Timmy embarked on his journey. \n",
      "\n",
      "While climbing, he met a speedy rabbit named Ruby, who laughed at him. \"You'll never make it!\" she said. But Timmy smiled and kept going, enjoying the scenery. At last, he reached the hilltop and discovered the most beautiful flower, shining like a star. Timmy learned that slow and steady always wins the race!\n",
      "ID: 11, Conversation ID: 15, Sender Type: SenderType.MODEL, Content: Once upon a time, in a bright green forest, there lived a little bluebird named Bella. Bella loved to sing, but she was shy. One sunny morning, she heard friends laughing in the meadow. Gathering her courage, she perched on a branch and sang her sweetest song. To her surprise, the animals stopped to listen! They cheered and danced, and Bella felt happy and free. From that day on, she shared her songs every day, spreading joy throughout the forest. Bella realized that sharing her voice brought everyone together, and she was never shy again!\n",
      "ID: 12, Conversation ID: 16, Sender Type: SenderType.USER, Content: This is a test message.\n",
      "ID: 14, Conversation ID: 1, Sender Type: SenderType.USER, Content: <|im_start|>user\n",
      " \n",
      "              Below is a story request that describes a task, paired with an input that provides further context. Write a response that appropriately completes the request.\n",
      "\n",
      "              ### Title: \n",
      "              how do clowns choose their outfit\n",
      "              \n",
      "              ### Story Request:\n",
      "              about clowns preparing for a performance\n",
      "\n",
      "              ### Word List:\n",
      "              clownery \n",
      "              <|im_end|>\n",
      "\n",
      "\n",
      "              <|im_start|>assistant\n",
      " \n",
      "              Here's the full story titled 'how do clowns choose their outfit' about 'about clowns preparing for a performance' with the vocabulary 'clownery':\n",
      "              ### Story:\n",
      "\n",
      "          \n"
     ]
    }
   ],
   "source": [
    "# Query all messages\n",
    "messages = Message.query.all()\n",
    "\n",
    "for message in messages:\n",
    "    print(f\"ID: {message.id}, Conversation ID: {message.conversation_id}, Sender Type: {message.sender_type}, Content: {message.content}\")"
   ]
  },
  {
   "cell_type": "code",
   "execution_count": 5,
   "metadata": {},
   "outputs": [],
   "source": [
    "# Create a df in pandas to write to SQL the schema of the tables we need to store the data\n",
    "user_data = {\n",
    "    'userId':[],\n",
    "    'username':[],\n",
    "    'age':[]\n",
    "}\n",
    "\n",
    "story_request_data = {\n",
    "    'userId':[],\n",
    "    'storyId':[],\n",
    "    'title':[],\n",
    "    'prompt':[],\n",
    "    'vocabulary':[]\n",
    "}\n",
    "\n",
    "meta_prompting_data = {\n",
    "    'storyId':[],\n",
    "    'meta_prompt':[],\n",
    "    'novel_prompt':[]\n",
    "}\n",
    "\n",
    "user_df = pd.DataFrame(user_data)\n",
    "story_df = pd.DataFrame(story_request_data)\n",
    "prompt_df = pd.DataFrame(meta_prompting_data)"
   ]
  },
  {
   "cell_type": "code",
   "execution_count": 7,
   "metadata": {},
   "outputs": [],
   "source": [
    "# Write the DataFrame to a SQL table\n",
    "table_names = ['users', 'stories', 'prompts']\n",
    "dataframes = [user_df, story_df, prompt_df]\n",
    "for table_name, df in zip(table_names, dataframes):\n",
    "    df.to_sql(table_name, con=engine, if_exists='append')"
   ]
  },
  {
   "cell_type": "code",
   "execution_count": 8,
   "metadata": {},
   "outputs": [
    {
     "name": "stdout",
     "output_type": "stream",
     "text": [
      "['prompts', 'stories', 'users']\n"
     ]
    }
   ],
   "source": [
    "# Use the inspector to get table information\n",
    "inspector = inspect(engine)\n",
    "tables = inspector.get_table_names()\n",
    "print(tables)"
   ]
  },
  {
   "cell_type": "code",
   "execution_count": null,
   "metadata": {},
   "outputs": [],
   "source": [
    "connection.close()"
   ]
  }
 ],
 "metadata": {
  "kernelspec": {
   "display_name": "myenv",
   "language": "python",
   "name": "python3"
  },
  "language_info": {
   "codemirror_mode": {
    "name": "ipython",
    "version": 3
   },
   "file_extension": ".py",
   "mimetype": "text/x-python",
   "name": "python",
   "nbconvert_exporter": "python",
   "pygments_lexer": "ipython3",
   "version": "3.10.15"
  }
 },
 "nbformat": 4,
 "nbformat_minor": 2
}
