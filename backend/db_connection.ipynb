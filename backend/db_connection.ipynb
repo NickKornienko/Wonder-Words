{
 "cells": [
  {
   "cell_type": "code",
   "execution_count": 8,
   "metadata": {},
   "outputs": [],
   "source": [
    "from sqlalchemy import create_engine, text, MetaData, Table, Column, Integer, String, ForeignKey,inspect\n",
    "import pandas as pd"
   ]
  },
  {
   "cell_type": "code",
   "execution_count": 9,
   "metadata": {},
   "outputs": [
    {
     "name": "stdout",
     "output_type": "stream",
     "text": [
      "Connection successful!\n"
     ]
    }
   ],
   "source": [
    "engine = create_engine('sqlite:///conversations.db')\n",
    "\n",
    "# Test the connection (optional)\n",
    "try:\n",
    "    connection = engine.connect()\n",
    "    print(\"Connection successful!\")\n",
    "except Exception as e:\n",
    "    print(f\"Connection failed: {e}\")"
   ]
  },
  {
   "cell_type": "code",
   "execution_count": 11,
   "metadata": {},
   "outputs": [],
   "source": [
    "# Create a df in pandas to write to SQL the schema of the tables we need to store the data\n",
    "user_data = {\n",
    "    'userId':[],\n",
    "    'username':[],\n",
    "    'age':[]\n",
    "}\n",
    "\n",
    "story_request_data = {\n",
    "    'userId':[],\n",
    "    'storyId':[],\n",
    "    'title':[],\n",
    "    'prompt':[],\n",
    "    'vocabulary':[]\n",
    "}\n",
    "\n",
    "meta_prompting_data = {\n",
    "    'storyId':[],\n",
    "    'meta_prompt':[],\n",
    "    'novel_prompt':[]\n",
    "}\n",
    "\n",
    "user_df = pd.DataFrame(user_data)\n",
    "story_df = pd.DataFrame(story_request_data)\n",
    "prompt_df = pd.DataFrame(meta_prompting_data)"
   ]
  },
  {
   "cell_type": "code",
   "execution_count": 16,
   "metadata": {},
   "outputs": [],
   "source": [
    "# Write the DataFrame to a SQL table\n",
    "table_names = ['users', 'stories', 'prompts']\n",
    "dataframes = [user_df, story_df, prompt_df]\n",
    "for table_name, df in zip(table_names, dataframes):\n",
    "    df.to_sql(table_name, con=engine, if_exists='append')"
   ]
  },
  {
   "cell_type": "code",
   "execution_count": 19,
   "metadata": {},
   "outputs": [
    {
     "name": "stdout",
     "output_type": "stream",
     "text": [
      "['prompts', 'stories', 'users']\n"
     ]
    }
   ],
   "source": [
    "# Use the inspector to get table information\n",
    "inspector = inspect(engine)\n",
    "tables = inspector.get_table_names()\n",
    "print(tables)"
   ]
  },
  {
   "cell_type": "code",
   "execution_count": null,
   "metadata": {},
   "outputs": [],
   "source": []
  }
 ],
 "metadata": {
  "kernelspec": {
   "display_name": "myenv",
   "language": "python",
   "name": "python3"
  },
  "language_info": {
   "codemirror_mode": {
    "name": "ipython",
    "version": 3
   },
   "file_extension": ".py",
   "mimetype": "text/x-python",
   "name": "python",
   "nbconvert_exporter": "python",
   "pygments_lexer": "ipython3",
   "version": "3.10.15"
  }
 },
 "nbformat": 4,
 "nbformat_minor": 2
}
