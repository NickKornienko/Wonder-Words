{
 "cells": [
  {
   "cell_type": "markdown",
   "id": "7bf13926-9bb7-4223-840c-d51bcedec07b",
   "metadata": {},
   "source": [
    "# HuggingFace Model Authentication"
   ]
  },
  {
   "cell_type": "code",
   "execution_count": 1,
   "id": "068591b8-8ecd-498c-851f-6fe580db3713",
   "metadata": {},
   "outputs": [],
   "source": [
    "import huggingface_hub"
   ]
  },
  {
   "cell_type": "code",
   "execution_count": 2,
   "id": "698c2572-0718-4609-b9eb-a15b93ad6ee7",
   "metadata": {},
   "outputs": [],
   "source": [
    "import os\n",
    "\n",
    "AWS_REGION=\"us-east-1\"  # Replace with your AWS region\n",
    "AWS_SECRET_NAME=\"huggingface_api_key\" # Replace with your secret name\n",
    "\n",
    "def get_huggingface_token():\n",
    "    os.system(\"~/.hf-credential-helper.py get\") \n",
    "    token = open('/tmp/huggingface_api_token', 'r').read().strip()\n",
    "    return token\n",
    "\n",
    "\n",
    "def login_to_huggingface(token):\n",
    "    \"\"\"\n",
    "    This function assumes you have a huggingface library and uses it to log in\n",
    "    with the provided token. Replace this with your specific login logic\n",
    "    using the HuggingFace API or SDK.\n",
    "\n",
    "    Args:\n",
    "        token (str): Your HuggingFace API Token\n",
    "    \"\"\"\n",
    "    try:\n",
    "        response = huggingface_hub.login(token=token) \n",
    "        print(\"Login successful:\", response)\n",
    "    except Exception as e:\n",
    "        print(f\"Error during login: {e}\")"
   ]
  },
  {
   "cell_type": "code",
   "execution_count": 8,
   "id": "b1b44c72-aab0-40da-ac49-655158ec5a9e",
   "metadata": {},
   "outputs": [
    {
     "name": "stderr",
     "output_type": "stream",
     "text": [
      "sh: 1: ./~/.aws-credential-helper.py: not found\n"
     ]
    },
    {
     "ename": "FileNotFoundError",
     "evalue": "[Errno 2] No such file or directory: '/tmp/huggingface_api_token'",
     "output_type": "error",
     "traceback": [
      "\u001b[0;31m---------------------------------------------------------------------------\u001b[0m",
      "\u001b[0;31mFileNotFoundError\u001b[0m                         Traceback (most recent call last)",
      "Cell \u001b[0;32mIn[8], line 1\u001b[0m\n\u001b[0;32m----> 1\u001b[0m huggingface_token \u001b[38;5;241m=\u001b[39m \u001b[43mget_huggingface_token\u001b[49m\u001b[43m(\u001b[49m\u001b[43m)\u001b[49m  \n\u001b[1;32m      2\u001b[0m login_to_huggingface(huggingface_token) \n",
      "Cell \u001b[0;32mIn[7], line 8\u001b[0m, in \u001b[0;36mget_huggingface_token\u001b[0;34m()\u001b[0m\n\u001b[1;32m      6\u001b[0m \u001b[38;5;28;01mdef\u001b[39;00m\u001b[38;5;250m \u001b[39m\u001b[38;5;21mget_huggingface_token\u001b[39m():\n\u001b[1;32m      7\u001b[0m     os\u001b[38;5;241m.\u001b[39msystem(\u001b[38;5;124m\"\u001b[39m\u001b[38;5;124m./~/.aws-credential-helper.py get\u001b[39m\u001b[38;5;124m\"\u001b[39m) \n\u001b[0;32m----> 8\u001b[0m     token \u001b[38;5;241m=\u001b[39m \u001b[38;5;28;43mopen\u001b[39;49m\u001b[43m(\u001b[49m\u001b[38;5;124;43m'\u001b[39;49m\u001b[38;5;124;43m/tmp/huggingface_api_token\u001b[39;49m\u001b[38;5;124;43m'\u001b[39;49m\u001b[43m,\u001b[49m\u001b[43m \u001b[49m\u001b[38;5;124;43m'\u001b[39;49m\u001b[38;5;124;43mr\u001b[39;49m\u001b[38;5;124;43m'\u001b[39;49m\u001b[43m)\u001b[49m\u001b[38;5;241m.\u001b[39mread()\u001b[38;5;241m.\u001b[39mstrip()\n\u001b[1;32m      9\u001b[0m     \u001b[38;5;28;01mreturn\u001b[39;00m token\n",
      "File \u001b[0;32m/opt/conda/lib/python3.11/site-packages/IPython/core/interactiveshell.py:324\u001b[0m, in \u001b[0;36m_modified_open\u001b[0;34m(file, *args, **kwargs)\u001b[0m\n\u001b[1;32m    317\u001b[0m \u001b[38;5;28;01mif\u001b[39;00m file \u001b[38;5;129;01min\u001b[39;00m {\u001b[38;5;241m0\u001b[39m, \u001b[38;5;241m1\u001b[39m, \u001b[38;5;241m2\u001b[39m}:\n\u001b[1;32m    318\u001b[0m     \u001b[38;5;28;01mraise\u001b[39;00m \u001b[38;5;167;01mValueError\u001b[39;00m(\n\u001b[1;32m    319\u001b[0m         \u001b[38;5;124mf\u001b[39m\u001b[38;5;124m\"\u001b[39m\u001b[38;5;124mIPython won\u001b[39m\u001b[38;5;124m'\u001b[39m\u001b[38;5;124mt let you open fd=\u001b[39m\u001b[38;5;132;01m{\u001b[39;00mfile\u001b[38;5;132;01m}\u001b[39;00m\u001b[38;5;124m by default \u001b[39m\u001b[38;5;124m\"\u001b[39m\n\u001b[1;32m    320\u001b[0m         \u001b[38;5;124m\"\u001b[39m\u001b[38;5;124mas it is likely to crash IPython. If you know what you are doing, \u001b[39m\u001b[38;5;124m\"\u001b[39m\n\u001b[1;32m    321\u001b[0m         \u001b[38;5;124m\"\u001b[39m\u001b[38;5;124myou can use builtins\u001b[39m\u001b[38;5;124m'\u001b[39m\u001b[38;5;124m open.\u001b[39m\u001b[38;5;124m\"\u001b[39m\n\u001b[1;32m    322\u001b[0m     )\n\u001b[0;32m--> 324\u001b[0m \u001b[38;5;28;01mreturn\u001b[39;00m \u001b[43mio_open\u001b[49m\u001b[43m(\u001b[49m\u001b[43mfile\u001b[49m\u001b[43m,\u001b[49m\u001b[43m \u001b[49m\u001b[38;5;241;43m*\u001b[39;49m\u001b[43margs\u001b[49m\u001b[43m,\u001b[49m\u001b[43m \u001b[49m\u001b[38;5;241;43m*\u001b[39;49m\u001b[38;5;241;43m*\u001b[39;49m\u001b[43mkwargs\u001b[49m\u001b[43m)\u001b[49m\n",
      "\u001b[0;31mFileNotFoundError\u001b[0m: [Errno 2] No such file or directory: '/tmp/huggingface_api_token'"
     ]
    }
   ],
   "source": [
    "huggingface_token = get_huggingface_token()  \n",
    "login_to_huggingface(huggingface_token) "
   ]
  },
  {
   "cell_type": "code",
   "execution_count": null,
   "id": "0a13df38-f4c6-4abe-8c06-7b516c0714f0",
   "metadata": {},
   "outputs": [],
   "source": []
  }
 ],
 "metadata": {
  "kernelspec": {
   "display_name": "Python 3 (ipykernel)",
   "language": "python",
   "name": "python3"
  },
  "language_info": {
   "codemirror_mode": {
    "name": "ipython",
    "version": 3
   },
   "file_extension": ".py",
   "mimetype": "text/x-python",
   "name": "python",
   "nbconvert_exporter": "python",
   "pygments_lexer": "ipython3",
   "version": "3.11.11"
  }
 },
 "nbformat": 4,
 "nbformat_minor": 5
}
