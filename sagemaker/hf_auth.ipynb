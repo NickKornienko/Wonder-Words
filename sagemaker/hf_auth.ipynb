{
 "cells": [
  {
   "cell_type": "markdown",
   "id": "7bf13926-9bb7-4223-840c-d51bcedec07b",
   "metadata": {},
   "source": [
    "# HuggingFace Model Authentication"
   ]
  },
  {
   "cell_type": "code",
   "execution_count": 2,
   "id": "068591b8-8ecd-498c-851f-6fe580db3713",
   "metadata": {},
   "outputs": [],
   "source": [
    "import huggingface_hub\n",
    "from huggingface_hub import hf_hub_url"
   ]
  },
  {
   "cell_type": "code",
   "execution_count": 3,
   "id": "8db62090-2602-4d39-95f6-fa11e98b0e96",
   "metadata": {},
   "outputs": [
    {
     "data": {
      "text/plain": [
       "{'type': 'user',\n",
       " 'id': '65ce9cecb80b447b9ec99624',\n",
       " 'name': 'Alexis-Az',\n",
       " 'fullname': 'Bryan Alexis',\n",
       " 'canPay': False,\n",
       " 'periodEnd': None,\n",
       " 'isPro': False,\n",
       " 'avatarUrl': '/avatars/c993563b2c5c29f3fadaf1026046ca07.svg',\n",
       " 'orgs': [{'type': 'org',\n",
       "   'id': '664aab0be7444249226bf6c9',\n",
       "   'name': 'Neurobytes',\n",
       "   'fullname': 'Neurobytes',\n",
       "   'avatarUrl': 'https://www.gravatar.com/avatar/ccdf6cb7aa1e17c3d9ff2cc514eb1954?d=retro&size=100',\n",
       "   'isEnterprise': False}],\n",
       " 'auth': {'type': 'access_token',\n",
       "  'accessToken': {'displayName': 'generaluse',\n",
       "   'role': 'fineGrained',\n",
       "   'createdAt': '2024-11-14T23:13:37.005Z',\n",
       "   'fineGrained': {'canReadGatedRepos': True,\n",
       "    'global': ['inference.serverless.write', 'discussion.write', 'post.write'],\n",
       "    'scoped': [{'entity': {'_id': '65ce9cecb80b447b9ec99624',\n",
       "       'type': 'user',\n",
       "       'name': 'Alexis-Az'},\n",
       "      'permissions': ['repo.content.read',\n",
       "       'repo.write',\n",
       "       'inference.endpoints.infer.write',\n",
       "       'inference.endpoints.write',\n",
       "       'user.webhooks.read',\n",
       "       'user.webhooks.write',\n",
       "       'collection.read',\n",
       "       'collection.write',\n",
       "       'discussion.write',\n",
       "       'user.billing.read']}]}}}}"
      ]
     },
     "execution_count": 3,
     "metadata": {},
     "output_type": "execute_result"
    }
   ],
   "source": [
    "huggingface_hub.whoami()"
   ]
  },
  {
   "cell_type": "code",
   "execution_count": null,
   "id": "0a13df38-f4c6-4abe-8c06-7b516c0714f0",
   "metadata": {},
   "outputs": [],
   "source": []
  }
 ],
 "metadata": {
  "kernelspec": {
   "display_name": "Python 3 (ipykernel)",
   "language": "python",
   "name": "python3"
  },
  "language_info": {
   "codemirror_mode": {
    "name": "ipython",
    "version": 3
   },
   "file_extension": ".py",
   "mimetype": "text/x-python",
   "name": "python",
   "nbconvert_exporter": "python",
   "pygments_lexer": "ipython3",
   "version": "3.11.11"
  }
 },
 "nbformat": 4,
 "nbformat_minor": 5
}
