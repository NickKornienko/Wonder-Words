{
 "cells": [
  {
   "cell_type": "markdown",
   "id": "7d22fd44-7815-41d4-ad62-952a098026ca",
   "metadata": {},
   "source": [
    "# Linking HuggingFace Dataset to AWS Sagemaker's Database\n",
    "This process will help ease training of models using sagemaker's MLFLow tools."
   ]
  },
  {
   "cell_type": "code",
   "execution_count": 6,
   "id": "a7cc9d2b-6a71-43cd-b735-da9bb7949b56",
   "metadata": {},
   "outputs": [],
   "source": [
    "import os\n",
    "from datasets import load_dataset"
   ]
  },
  {
   "cell_type": "code",
   "execution_count": 4,
   "id": "a592a85d-05d2-4923-8d1c-7a1369962424",
   "metadata": {},
   "outputs": [],
   "source": [
    "hf_repo = 'Alexis-Az/TinyStories'\n",
    "cache_dir = 'tinystories'"
   ]
  },
  {
   "cell_type": "code",
   "execution_count": 5,
   "id": "7f624303-829c-4d4f-a496-5e2e26a77640",
   "metadata": {},
   "outputs": [
    {
     "data": {
      "application/vnd.jupyter.widget-view+json": {
       "model_id": "62d80b937bb249eab6e2e00405717488",
       "version_major": 2,
       "version_minor": 0
      },
      "text/plain": [
       "Generating train split:   0%|          | 0/2196080 [00:00<?, ? examples/s]"
      ]
     },
     "metadata": {},
     "output_type": "display_data"
    },
    {
     "data": {
      "application/vnd.jupyter.widget-view+json": {
       "model_id": "8ec7fac578874e8789da3c6c52f268e7",
       "version_major": 2,
       "version_minor": 0
      },
      "text/plain": [
       "Generating validation split:   0%|          | 0/549020 [00:00<?, ? examples/s]"
      ]
     },
     "metadata": {},
     "output_type": "display_data"
    }
   ],
   "source": [
    "data = load_dataset(hf_repo, cache_dir=cache_dir)\n"
   ]
  },
  {
   "cell_type": "code",
   "execution_count": 19,
   "id": "3eb081c6-9b6a-4453-8345-b8248d21dcb1",
   "metadata": {},
   "outputs": [],
   "source": [
    "def find_file_with_substring(directory, substring):\n",
    "    \"\"\"Finds the full filepath of a file containing a substring in its name using DFS.\n",
    "\n",
    "    Args:\n",
    "        directory (str): The directory to search within.\n",
    "        substring (str): The substring to look for in filenames.\n",
    "\n",
    "    Returns:\n",
    "        str: The full filepath of the found file, or None if not found.\n",
    "    \"\"\"\n",
    "\n",
    "    for filename in os.listdir(directory):\n",
    "        filepath = os.path.join(directory, filename)  \n",
    "\n",
    "        if os.path.isfile(filepath) and substring in filename:\n",
    "            return filepath \n",
    "        elif os.path.isdir(filepath):\n",
    "            found_file = find_file_with_substring(filepath, substring)\n",
    "            if found_file:\n",
    "                return found_file  # Return if found in a subdirectory\n",
    "\n",
    "search_dir = \"./\" + cache_dir\n",
    "target_substring = \"dataset\""
   ]
  },
  {
   "cell_type": "code",
   "execution_count": 20,
   "id": "153d0a46-b237-4a49-bf6b-008a636fbcaf",
   "metadata": {},
   "outputs": [],
   "source": [
    "full_path = find_file_with_substring(search_dir, target_substring)"
   ]
  },
  {
   "cell_type": "code",
   "execution_count": 21,
   "id": "6543ab1a-930f-401b-8018-65f45ccaf96f",
   "metadata": {},
   "outputs": [
    {
     "data": {
      "text/plain": [
       "'./tinystories/Alexis-Az___tiny_stories/default/0.0.0/e82c94c97f93463692798284495ba7b41fa2973d/dataset_info.json'"
      ]
     },
     "execution_count": 21,
     "metadata": {},
     "output_type": "execute_result"
    }
   ],
   "source": [
    "full_path"
   ]
  }
 ],
 "metadata": {
  "kernelspec": {
   "display_name": "Python 3 (ipykernel)",
   "language": "python",
   "name": "python3"
  },
  "language_info": {
   "codemirror_mode": {
    "name": "ipython",
    "version": 3
   },
   "file_extension": ".py",
   "mimetype": "text/x-python",
   "name": "python",
   "nbconvert_exporter": "python",
   "pygments_lexer": "ipython3",
   "version": "3.11.11"
  }
 },
 "nbformat": 4,
 "nbformat_minor": 5
}
