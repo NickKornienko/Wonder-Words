{
 "cells": [
  {
   "cell_type": "markdown",
   "id": "7d22fd44-7815-41d4-ad62-952a098026ca",
   "metadata": {},
   "source": [
    "# Linking HuggingFace Dataset to AWS Sagemaker's Database\n",
    "This process will help ease training of models using sagemaker's MLFLow tools."
   ]
  },
  {
   "cell_type": "code",
   "execution_count": 7,
   "id": "a7cc9d2b-6a71-43cd-b735-da9bb7949b56",
   "metadata": {},
   "outputs": [],
   "source": [
    "import os\n",
    "import s3fs\n",
    "from datasets import load_dataset\n",
    "import aiobotocore.session"
   ]
  },
  {
   "cell_type": "code",
   "execution_count": 8,
   "id": "1df80707-7fbc-4d70-b1a7-228ca0f3331d",
   "metadata": {},
   "outputs": [],
   "source": [
    "s3_session = aiobotocore.session.AioSession(profile=\"s3sagemaker\")\n",
    "storage_options = {\"session\": s3_session}\n",
    "fs = s3fs.S3FileSystem(**storage_options)"
   ]
  },
  {
   "cell_type": "code",
   "execution_count": 12,
   "id": "a592a85d-05d2-4923-8d1c-7a1369962424",
   "metadata": {},
   "outputs": [],
   "source": [
    "hf_repo = 'Alexis-Az/TinyStories'\n",
    "train_output_dir = 's3://tinystories/train/'\n",
    "validation_output_dir = 's3://tinystories/validation/'"
   ]
  },
  {
   "cell_type": "code",
   "execution_count": 3,
   "id": "7f624303-829c-4d4f-a496-5e2e26a77640",
   "metadata": {},
   "outputs": [],
   "source": [
    "train_data = load_dataset(hf_repo, split ='train')\n",
    "val_data = load_dataset(hf_repo, split ='validation')"
   ]
  },
  {
   "cell_type": "code",
   "execution_count": 13,
   "id": "fdb51589-1cf9-4417-9910-733cb9834cd2",
   "metadata": {},
   "outputs": [
    {
     "data": {
      "application/vnd.jupyter.widget-view+json": {
       "model_id": "b0de26141ac04c77bd066e11f1ec06c1",
       "version_major": 2,
       "version_minor": 0
      },
      "text/plain": [
       "Saving the dataset (0/6 shards):   0%|          | 0/2196080 [00:00<?, ? examples/s]"
      ]
     },
     "metadata": {},
     "output_type": "display_data"
    }
   ],
   "source": [
    "train_data.save_to_disk(train_output_dir)"
   ]
  },
  {
   "cell_type": "code",
   "execution_count": 14,
   "id": "9f57cd3d-2151-47e2-82cc-308d821cb8ac",
   "metadata": {},
   "outputs": [
    {
     "data": {
      "application/vnd.jupyter.widget-view+json": {
       "model_id": "542ff062a989481fad39ea1344c532b7",
       "version_major": 2,
       "version_minor": 0
      },
      "text/plain": [
       "Saving the dataset (0/2 shards):   0%|          | 0/549020 [00:00<?, ? examples/s]"
      ]
     },
     "metadata": {},
     "output_type": "display_data"
    }
   ],
   "source": [
    "val_data.save_to_disk(validation_output_dir)"
   ]
  },
  {
   "cell_type": "code",
   "execution_count": null,
   "id": "bbfecd96-7be9-421f-a14e-449ba67122e5",
   "metadata": {},
   "outputs": [],
   "source": []
  }
 ],
 "metadata": {
  "kernelspec": {
   "display_name": "Python 3 (ipykernel)",
   "language": "python",
   "name": "python3"
  },
  "language_info": {
   "codemirror_mode": {
    "name": "ipython",
    "version": 3
   },
   "file_extension": ".py",
   "mimetype": "text/x-python",
   "name": "python",
   "nbconvert_exporter": "python",
   "pygments_lexer": "ipython3",
   "version": "3.11.11"
  }
 },
 "nbformat": 4,
 "nbformat_minor": 5
}
