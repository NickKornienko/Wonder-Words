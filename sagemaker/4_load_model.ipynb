{
 "cells": [
  {
   "cell_type": "code",
   "execution_count": 1,
   "id": "1d2d89e6-0b24-4277-8359-527c5240dcb4",
   "metadata": {
    "scrolled": true
   },
   "outputs": [
    {
     "name": "stdout",
     "output_type": "stream",
     "text": [
      "sagemaker.config INFO - Not applying SDK defaults from location: /etc/xdg/sagemaker/config.yaml\n",
      "sagemaker.config INFO - Not applying SDK defaults from location: /home/sagemaker-user/.config/sagemaker/config.yaml\n"
     ]
    }
   ],
   "source": [
    "import torch\n",
    "from transformers import AutoTokenizer\n",
    "import numpy as np\n",
    "from sagemaker.serve.spec.inference_spec import InferenceSpec"
   ]
  },
  {
   "cell_type": "markdown",
   "id": "d9d869fd-2abc-44bb-a376-f928581248d4",
   "metadata": {},
   "source": [
    "# Testing Loading of the Compiled Model \n",
    "This is the model that was deployed to AWS using the model's torch.jit.trace .pth object. In this notebook the model is loaded using torch.jit.load which is what AWS uses in their PyTorch image container environment. This model is large so it cannot be uploaded using the AWS sagemaker GUI so instead, the model artifacts where saved in a AWS S3 bucket and the path used as the input for the model in sagemaker's deployable model action. The huggingface environment variable HF_TASK for text-generation was added and then tested by scanning the logs using AWS cloudwatch. Model loading errors occured due to other issues (does not exist when loading in this notebook). **The model was deployed to an AWS container using huggingface endpoint's GUI using the repo containing the finetuned model. Note that the model's 'generate' method used to generate text was not traced due to untracable modules used in the generate method.**"
   ]
  },
  {
   "cell_type": "code",
   "execution_count": 2,
   "id": "f1797513-ff32-4af4-b223-047504838a41",
   "metadata": {},
   "outputs": [],
   "source": [
    "model = torch.jit.load('./serve/Story-Generation-Model.pt')"
   ]
  },
  {
   "cell_type": "code",
   "execution_count": 3,
   "id": "a415af88-cdfc-4bbe-85da-546e8cc3a7ac",
   "metadata": {},
   "outputs": [],
   "source": [
    "tokenizer = AutoTokenizer.from_pretrained(\"Alexis-Az/Story-Generation-Model\")"
   ]
  },
  {
   "cell_type": "code",
   "execution_count": 4,
   "id": "76487beb-176e-455c-aabc-c192a047aef4",
   "metadata": {},
   "outputs": [],
   "source": [
    "DUMMY_TEXT = \"Hi! Can you tell me a story about a cute park?\""
   ]
  },
  {
   "cell_type": "code",
   "execution_count": 5,
   "id": "0bfb9cf8-add5-4cb0-8477-b9a79fad3509",
   "metadata": {},
   "outputs": [],
   "source": [
    "class InferenceSpec(InferenceSpec):\n",
    "    def invoke(self, input_object: object, model: object):       \n",
    "        with torch.no_grad():\n",
    "            output = model(input_object, True)\n",
    "        return output\n",
    "        \n",
    "    def load(self, model_dir: str):\n",
    "        model = torch.jit.load(model_dir+f\"/{INFER_MODEL.split('/')[-1]}.pt\")\n",
    "        model.eval()\n",
    "        return model\n",
    "\n",
    "inf_spec = InferenceSpec()"
   ]
  },
  {
   "cell_type": "code",
   "execution_count": 6,
   "id": "31de2290-857b-4acd-b4d8-31b269f29d9c",
   "metadata": {},
   "outputs": [],
   "source": [
    "%%capture\n",
    "model.eval()"
   ]
  },
  {
   "cell_type": "code",
   "execution_count": 7,
   "id": "0c21119d-f4b1-4b48-9a20-b4990e5f0c1a",
   "metadata": {},
   "outputs": [],
   "source": [
    "tokens = tokenizer(DUMMY_TEXT, return_tensors='pt')"
   ]
  },
  {
   "cell_type": "code",
   "execution_count": 8,
   "id": "7f26ecc8-cf5b-4f09-aba4-295d76218a43",
   "metadata": {},
   "outputs": [
    {
     "data": {
      "text/plain": [
       "{'input_ids': tensor([[128000,  13347,      0,   3053,    499,   3371,    757,    264,   3446,\n",
       "            922,    264,  19369,   6246,     30]]), 'attention_mask': tensor([[1, 1, 1, 1, 1, 1, 1, 1, 1, 1, 1, 1, 1, 1]])}"
      ]
     },
     "execution_count": 8,
     "metadata": {},
     "output_type": "execute_result"
    }
   ],
   "source": [
    "tokens"
   ]
  },
  {
   "cell_type": "code",
   "execution_count": 31,
   "id": "31637e12-5ade-49b6-aed5-fa20ad958527",
   "metadata": {},
   "outputs": [],
   "source": [
    "#output = tokenizer.decode(model(tokens['input_ids'].cuda())[0])"
   ]
  },
  {
   "cell_type": "markdown",
   "id": "f16b047d-922a-4fe3-ba9c-20595d974f0c",
   "metadata": {},
   "source": []
  },
  {
   "cell_type": "code",
   "execution_count": 10,
   "id": "7ce48f9c-1837-4ad0-97cd-4a396d9d704f",
   "metadata": {},
   "outputs": [
    {
     "ename": "AttributeError",
     "evalue": "'RecursiveScriptModule' object has no attribute 'generate'",
     "output_type": "error",
     "traceback": [
      "\u001b[0;31m---------------------------------------------------------------------------\u001b[0m",
      "\u001b[0;31mAttributeError\u001b[0m                            Traceback (most recent call last)",
      "Cell \u001b[0;32mIn[10], line 1\u001b[0m\n\u001b[0;32m----> 1\u001b[0m \u001b[43mmodel\u001b[49m\u001b[38;5;241;43m.\u001b[39;49m\u001b[38;5;21;43m__getattr__\u001b[39;49m\u001b[43m(\u001b[49m\u001b[38;5;124;43m'\u001b[39;49m\u001b[38;5;124;43mgenerate\u001b[39;49m\u001b[38;5;124;43m'\u001b[39;49m\u001b[43m)\u001b[49m\u001b[38;5;66;03m#(tokens['input_ids'].cuda())\u001b[39;00m\n",
      "File \u001b[0;32m/opt/conda/lib/python3.11/site-packages/torch/jit/_script.py:825\u001b[0m, in \u001b[0;36mRecursiveScriptModule.__getattr__\u001b[0;34m(self, attr)\u001b[0m\n\u001b[1;32m    822\u001b[0m     \u001b[38;5;28mself\u001b[39m\u001b[38;5;241m.\u001b[39m\u001b[38;5;18m__dict__\u001b[39m[attr] \u001b[38;5;241m=\u001b[39m script_method\n\u001b[1;32m    823\u001b[0m     \u001b[38;5;28;01mreturn\u001b[39;00m script_method\n\u001b[0;32m--> 825\u001b[0m \u001b[38;5;28;01mreturn\u001b[39;00m \u001b[38;5;28;43msuper\u001b[39;49m\u001b[43m(\u001b[49m\u001b[43m)\u001b[49m\u001b[38;5;241;43m.\u001b[39;49m\u001b[38;5;21;43m__getattr__\u001b[39;49m\u001b[43m(\u001b[49m\u001b[43mattr\u001b[49m\u001b[43m)\u001b[49m\n",
      "File \u001b[0;32m/opt/conda/lib/python3.11/site-packages/torch/jit/_script.py:532\u001b[0m, in \u001b[0;36mScriptModule.__getattr__\u001b[0;34m(self, attr)\u001b[0m\n\u001b[1;32m    530\u001b[0m \u001b[38;5;28;01mdef\u001b[39;00m\u001b[38;5;250m \u001b[39m\u001b[38;5;21m__getattr__\u001b[39m(\u001b[38;5;28mself\u001b[39m, attr):\n\u001b[1;32m    531\u001b[0m     \u001b[38;5;28;01mif\u001b[39;00m \u001b[38;5;124m\"\u001b[39m\u001b[38;5;124m_actual_script_module\u001b[39m\u001b[38;5;124m\"\u001b[39m \u001b[38;5;129;01mnot\u001b[39;00m \u001b[38;5;129;01min\u001b[39;00m \u001b[38;5;28mself\u001b[39m\u001b[38;5;241m.\u001b[39m\u001b[38;5;18m__dict__\u001b[39m:\n\u001b[0;32m--> 532\u001b[0m         \u001b[38;5;28;01mreturn\u001b[39;00m \u001b[38;5;28;43msuper\u001b[39;49m\u001b[43m(\u001b[49m\u001b[43m)\u001b[49m\u001b[38;5;241;43m.\u001b[39;49m\u001b[38;5;21;43m__getattr__\u001b[39;49m\u001b[43m(\u001b[49m\u001b[43mattr\u001b[49m\u001b[43m)\u001b[49m\n\u001b[1;32m    533\u001b[0m     \u001b[38;5;28;01mreturn\u001b[39;00m \u001b[38;5;28mgetattr\u001b[39m(\u001b[38;5;28mself\u001b[39m\u001b[38;5;241m.\u001b[39m_actual_script_module, attr)\n",
      "File \u001b[0;32m/opt/conda/lib/python3.11/site-packages/torch/nn/modules/module.py:1729\u001b[0m, in \u001b[0;36mModule.__getattr__\u001b[0;34m(self, name)\u001b[0m\n\u001b[1;32m   1727\u001b[0m     \u001b[38;5;28;01mif\u001b[39;00m name \u001b[38;5;129;01min\u001b[39;00m modules:\n\u001b[1;32m   1728\u001b[0m         \u001b[38;5;28;01mreturn\u001b[39;00m modules[name]\n\u001b[0;32m-> 1729\u001b[0m \u001b[38;5;28;01mraise\u001b[39;00m \u001b[38;5;167;01mAttributeError\u001b[39;00m(\u001b[38;5;124mf\u001b[39m\u001b[38;5;124m\"\u001b[39m\u001b[38;5;124m'\u001b[39m\u001b[38;5;132;01m{\u001b[39;00m\u001b[38;5;28mtype\u001b[39m(\u001b[38;5;28mself\u001b[39m)\u001b[38;5;241m.\u001b[39m\u001b[38;5;18m__name__\u001b[39m\u001b[38;5;132;01m}\u001b[39;00m\u001b[38;5;124m'\u001b[39m\u001b[38;5;124m object has no attribute \u001b[39m\u001b[38;5;124m'\u001b[39m\u001b[38;5;132;01m{\u001b[39;00mname\u001b[38;5;132;01m}\u001b[39;00m\u001b[38;5;124m'\u001b[39m\u001b[38;5;124m\"\u001b[39m)\n",
      "\u001b[0;31mAttributeError\u001b[0m: 'RecursiveScriptModule' object has no attribute 'generate'"
     ]
    }
   ],
   "source": [
    "model.__getattr__('generate')#(tokens['input_ids'].cuda())"
   ]
  },
  {
   "cell_type": "code",
   "execution_count": 15,
   "id": "5faf6149-cf35-4ead-8fb4-afc029a54fa6",
   "metadata": {},
   "outputs": [
    {
     "data": {
      "text/plain": [
       "tensor([[[ 2.1406,  5.0000,  9.0625,  ..., -1.6094, -1.6094, -1.6094],\n",
       "         [15.6250,  3.7969,  3.3125,  ..., -4.2188, -4.2188, -4.2188],\n",
       "         [ 3.9062,  0.8047,  6.2500,  ..., -1.7656, -1.7656, -1.7656],\n",
       "         ...,\n",
       "         [ 7.8438,  3.3438,  3.7188,  ..., -4.9062, -4.9062, -4.9062],\n",
       "         [12.2500,  5.5312,  5.2188,  ..., -2.9062, -2.9062, -2.9062],\n",
       "         [ 7.5000, -0.4863,  4.7188,  ..., -1.8359, -1.8359, -1.8359]]],\n",
       "       device='cuda:0', dtype=torch.bfloat16, grad_fn=<ToCopyBackward0>)"
      ]
     },
     "execution_count": 15,
     "metadata": {},
     "output_type": "execute_result"
    }
   ],
   "source": [
    "output"
   ]
  },
  {
   "cell_type": "code",
   "execution_count": null,
   "id": "a0b4a192-9535-4029-b7ef-a15ecb71a9a1",
   "metadata": {},
   "outputs": [],
   "source": []
  }
 ],
 "metadata": {
  "kernelspec": {
   "display_name": "Python 3 (ipykernel)",
   "language": "python",
   "name": "python3"
  },
  "language_info": {
   "codemirror_mode": {
    "name": "ipython",
    "version": 3
   },
   "file_extension": ".py",
   "mimetype": "text/x-python",
   "name": "python",
   "nbconvert_exporter": "python",
   "pygments_lexer": "ipython3",
   "version": "3.11.11"
  }
 },
 "nbformat": 4,
 "nbformat_minor": 5
}
