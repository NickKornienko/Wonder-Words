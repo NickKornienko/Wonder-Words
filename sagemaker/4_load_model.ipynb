{
 "cells": [
  {
   "cell_type": "code",
   "execution_count": 1,
   "id": "1d2d89e6-0b24-4277-8359-527c5240dcb4",
   "metadata": {
    "scrolled": true
   },
   "outputs": [
    {
     "name": "stdout",
     "output_type": "stream",
     "text": [
      "sagemaker.config INFO - Not applying SDK defaults from location: /etc/xdg/sagemaker/config.yaml\n",
      "sagemaker.config INFO - Not applying SDK defaults from location: /home/sagemaker-user/.config/sagemaker/config.yaml\n"
     ]
    }
   ],
   "source": [
    "import torch\n",
    "from transformers import AutoTokenizer\n",
    "import numpy as np\n",
    "from sagemaker.serve.spec.inference_spec import InferenceSpec"
   ]
  },
  {
   "cell_type": "markdown",
   "id": "d9d869fd-2abc-44bb-a376-f928581248d4",
   "metadata": {},
   "source": [
    "# Testing Loading of the Compiled Model \n",
    "This is the model that was deployed to AWS using the model's torch.jit.trace .pth object. In this notebook the model is loaded using torch.jit.load which is what AWS uses in their PyTorch image container environment. This model is large so it cannot be uploaded using the AWS sagemaker GUI so instead, the model artifacts where saved in a AWS S3 bucket and the path used as the input for the model in sagemaker's deployable model action. The huggingface environment variable HF_TASK for text-generation was added and then tested by scanning the logs using AWS cloudwatch. Model loading errors occured due to other issues (does not exist when loading in this notebook). **The model was deployed to an AWS container using huggingface endpoint's GUI using the repo containing the finetuned model. Note that the model's 'generate' method used to generate text was not traced due to untracable modules used in the generate method.**"
   ]
  },
  {
   "cell_type": "code",
   "execution_count": 2,
   "id": "f1797513-ff32-4af4-b223-047504838a41",
   "metadata": {},
   "outputs": [],
   "source": [
    "model = torch.jit.load('./serve/Story-Generation-Model.pt')"
   ]
  },
  {
   "cell_type": "code",
   "execution_count": 3,
   "id": "a415af88-cdfc-4bbe-85da-546e8cc3a7ac",
   "metadata": {},
   "outputs": [],
   "source": [
    "tokenizer = AutoTokenizer.from_pretrained(\"Alexis-Az/Story-Generation-Model\")"
   ]
  },
  {
   "cell_type": "code",
   "execution_count": 4,
   "id": "76487beb-176e-455c-aabc-c192a047aef4",
   "metadata": {},
   "outputs": [],
   "source": [
    "DUMMY_TEXT = \"Hi! Can you tell me a story about a cute park?\""
   ]
  },
  {
   "cell_type": "code",
   "execution_count": 5,
   "id": "0bfb9cf8-add5-4cb0-8477-b9a79fad3509",
   "metadata": {},
   "outputs": [],
   "source": [
    "class InferenceSpec(InferenceSpec):\n",
    "    def invoke(self, input_object: object, model: object):       \n",
    "        with torch.no_grad():\n",
    "            output = model(input_object, True)\n",
    "        return output\n",
    "        \n",
    "    def load(self, model_dir: str):\n",
    "        model = torch.jit.load(model_dir+f\"/{INFER_MODEL.split('/')[-1]}.pt\")\n",
    "        model.eval()\n",
    "        return model\n",
    "\n",
    "inf_spec = InferenceSpec()"
   ]
  },
  {
   "cell_type": "code",
   "execution_count": 6,
   "id": "31de2290-857b-4acd-b4d8-31b269f29d9c",
   "metadata": {},
   "outputs": [],
   "source": [
    "%%capture\n",
    "model.eval()"
   ]
  },
  {
   "cell_type": "code",
   "execution_count": 7,
   "id": "0c21119d-f4b1-4b48-9a20-b4990e5f0c1a",
   "metadata": {},
   "outputs": [],
   "source": [
    "tokens = tokenizer(DUMMY_TEXT, return_tensors='pt')"
   ]
  },
  {
   "cell_type": "code",
   "execution_count": 8,
   "id": "7f26ecc8-cf5b-4f09-aba4-295d76218a43",
   "metadata": {},
   "outputs": [
    {
     "data": {
      "text/plain": [
       "{'input_ids': tensor([[128000,  13347,      0,   3053,    499,   3371,    757,    264,   3446,\n",
       "            922,    264,  19369,   6246,     30]]), 'attention_mask': tensor([[1, 1, 1, 1, 1, 1, 1, 1, 1, 1, 1, 1, 1, 1]])}"
      ]
     },
     "execution_count": 8,
     "metadata": {},
     "output_type": "execute_result"
    }
   ],
   "source": [
    "tokens"
   ]
  },
  {
   "cell_type": "code",
   "execution_count": 15,
   "id": "5faf6149-cf35-4ead-8fb4-afc029a54fa6",
   "metadata": {},
   "outputs": [
    {
     "data": {
      "text/plain": [
       "tensor([[[ 2.1406,  5.0000,  9.0625,  ..., -1.6094, -1.6094, -1.6094],\n",
       "         [15.6250,  3.7969,  3.3125,  ..., -4.2188, -4.2188, -4.2188],\n",
       "         [ 3.9062,  0.8047,  6.2500,  ..., -1.7656, -1.7656, -1.7656],\n",
       "         ...,\n",
       "         [ 7.8438,  3.3438,  3.7188,  ..., -4.9062, -4.9062, -4.9062],\n",
       "         [12.2500,  5.5312,  5.2188,  ..., -2.9062, -2.9062, -2.9062],\n",
       "         [ 7.5000, -0.4863,  4.7188,  ..., -1.8359, -1.8359, -1.8359]]],\n",
       "       device='cuda:0', dtype=torch.bfloat16, grad_fn=<ToCopyBackward0>)"
      ]
     },
     "execution_count": 15,
     "metadata": {},
     "output_type": "execute_result"
    }
   ],
   "source": [
    "output"
   ]
  },
  {
   "cell_type": "code",
   "execution_count": null,
   "id": "a0b4a192-9535-4029-b7ef-a15ecb71a9a1",
   "metadata": {},
   "outputs": [],
   "source": []
  }
 ],
 "metadata": {
  "kernelspec": {
   "display_name": "Python 3 (ipykernel)",
   "language": "python",
   "name": "python3"
  },
  "language_info": {
   "codemirror_mode": {
    "name": "ipython",
    "version": 3
   },
   "file_extension": ".py",
   "mimetype": "text/x-python",
   "name": "python",
   "nbconvert_exporter": "python",
   "pygments_lexer": "ipython3",
   "version": "3.11.11"
  }
 },
 "nbformat": 4,
 "nbformat_minor": 5
}
