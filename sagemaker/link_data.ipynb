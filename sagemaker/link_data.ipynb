{
 "cells": [
  {
   "cell_type": "markdown",
   "id": "7d22fd44-7815-41d4-ad62-952a098026ca",
   "metadata": {},
   "source": [
    "# Linking HuggingFace Dataset to AWS Sagemaker's Database\n",
    "This process will help ease training of models using sagemaker's MLFLow tools."
   ]
  },
  {
   "cell_type": "code",
   "execution_count": 24,
   "id": "a7cc9d2b-6a71-43cd-b735-da9bb7949b56",
   "metadata": {},
   "outputs": [],
   "source": [
    "import os\n",
    "import s3fs\n",
    "from datasets import load_dataset, load_dataset_builder\n",
    "import boto3"
   ]
  },
  {
   "cell_type": "code",
   "execution_count": 29,
   "id": "a592a85d-05d2-4923-8d1c-7a1369962424",
   "metadata": {},
   "outputs": [],
   "source": [
    "hf_repo = 'Alexis-Az/TinyStories'\n",
    "output_dir = 'tinystories'"
   ]
  },
  {
   "cell_type": "code",
   "execution_count": 3,
   "id": "7f624303-829c-4d4f-a496-5e2e26a77640",
   "metadata": {},
   "outputs": [],
   "source": [
    "train_data = load_dataset(hf_repo, split ='train')\n",
    "val_data = load_dataset(hf_repo, split ='validation')"
   ]
  },
  {
   "cell_type": "code",
   "execution_count": 16,
   "id": "8e5db22c-b07e-4a35-a1aa-96b9f8d213da",
   "metadata": {},
   "outputs": [
    {
     "data": {
      "application/vnd.jupyter.widget-view+json": {
       "model_id": "09f339f1f10145caa080495cbaebdb1a",
       "version_major": 2,
       "version_minor": 0
      },
      "text/plain": [
       "Creating CSV from Arrow format:   0%|          | 0/2197 [00:00<?, ?ba/s]"
      ]
     },
     "metadata": {},
     "output_type": "display_data"
    },
    {
     "data": {
      "text/plain": [
       "3032563330"
      ]
     },
     "execution_count": 16,
     "metadata": {},
     "output_type": "execute_result"
    }
   ],
   "source": [
    "train_data.to_csv('./tinystories-train.csv')"
   ]
  },
  {
   "cell_type": "code",
   "execution_count": 17,
   "id": "7118c9f0-37c5-4b06-ac4b-28d85c5d6c45",
   "metadata": {},
   "outputs": [
    {
     "data": {
      "application/vnd.jupyter.widget-view+json": {
       "model_id": "a3fec352396b4429bca1fca5486c6a42",
       "version_major": 2,
       "version_minor": 0
      },
      "text/plain": [
       "Creating CSV from Arrow format:   0%|          | 0/550 [00:00<?, ?ba/s]"
      ]
     },
     "metadata": {},
     "output_type": "display_data"
    },
    {
     "data": {
      "text/plain": [
       "758382482"
      ]
     },
     "execution_count": 17,
     "metadata": {},
     "output_type": "execute_result"
    }
   ],
   "source": [
    "val_data.to_csv('./tinystories-val.csv')"
   ]
  },
  {
   "cell_type": "code",
   "execution_count": 30,
   "id": "3653ab76-4a25-4af1-85e6-562e8e275164",
   "metadata": {},
   "outputs": [],
   "source": [
    "s3 = boto3.resource('s3')\n",
    "s3.meta.client.upload_file('./tinystories-train.csv', output_dir, 'tinystories-train.csv')"
   ]
  },
  {
   "cell_type": "code",
   "execution_count": 31,
   "id": "7edb2813-ac23-4ed2-b1ed-4012ea33a667",
   "metadata": {},
   "outputs": [],
   "source": [
    "s3.meta.client.upload_file('./tinystories-val.csv', output_dir, 'tinystories-val.csv')"
   ]
  }
 ],
 "metadata": {
  "kernelspec": {
   "display_name": "Python 3 (ipykernel)",
   "language": "python",
   "name": "python3"
  },
  "language_info": {
   "codemirror_mode": {
    "name": "ipython",
    "version": 3
   },
   "file_extension": ".py",
   "mimetype": "text/x-python",
   "name": "python",
   "nbconvert_exporter": "python",
   "pygments_lexer": "ipython3",
   "version": "3.11.11"
  }
 },
 "nbformat": 4,
 "nbformat_minor": 5
}
