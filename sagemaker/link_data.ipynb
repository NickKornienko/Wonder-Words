{
 "cells": [
  {
   "cell_type": "markdown",
   "id": "7d22fd44-7815-41d4-ad62-952a098026ca",
   "metadata": {},
   "source": [
    "# Linking HuggingFace Dataset to AWS Sagemaker's Database\n",
    "This process will help ease training of models using sagemaker's MLFLow tools."
   ]
  },
  {
   "cell_type": "code",
   "execution_count": 3,
   "id": "a7cc9d2b-6a71-43cd-b735-da9bb7949b56",
   "metadata": {},
   "outputs": [],
   "source": [
    "import os\n",
    "import s3fs\n",
    "from datasets import load_dataset, load_dataset_builder\n",
    "import boto3"
   ]
  },
  {
   "cell_type": "code",
   "execution_count": 18,
   "id": "a592a85d-05d2-4923-8d1c-7a1369962424",
   "metadata": {},
   "outputs": [],
   "source": [
    "hf_repo = 'Alexis-Az/TinyStories'"
   ]
  },
  {
   "cell_type": "code",
   "execution_count": 19,
   "id": "dba8338b-40b5-4b75-a092-3fa56ba5059c",
   "metadata": {},
   "outputs": [
    {
     "data": {
      "application/vnd.jupyter.widget-view+json": {
       "model_id": "385aa19f4c3846a799957f99e5bb92ba",
       "version_major": 2,
       "version_minor": 0
      },
      "text/plain": [
       "Generating train split: 0 examples [00:00, ? examples/s]"
      ]
     },
     "metadata": {},
     "output_type": "display_data"
    }
   ],
   "source": [
    "train_builder = load_dataset_builder(hf_repo, revision='refs/convert/parquet', data_dir='default/train')\n",
    "\n",
    "train_output_dir = \"s3://tinystories/train/\"\n",
    "\n",
    "train_builder.download_and_prepare(train_output_dir, file_format=\"parquet\")"
   ]
  },
  {
   "cell_type": "code",
   "execution_count": 20,
   "id": "c41fae03-7e09-490a-8391-848b57d19797",
   "metadata": {},
   "outputs": [
    {
     "data": {
      "application/vnd.jupyter.widget-view+json": {
       "model_id": "5336052b1ca94cb38b64ba35d7d05e38",
       "version_major": 2,
       "version_minor": 0
      },
      "text/plain": [
       "Generating train split: 0 examples [00:00, ? examples/s]"
      ]
     },
     "metadata": {},
     "output_type": "display_data"
    }
   ],
   "source": [
    "val_builder = load_dataset_builder(hf_repo, revision='refs/convert/parquet', data_dir='default/validation')\n",
    "\n",
    "val_output_dir = \"s3://tinystories/validation/\"\n",
    "\n",
    "val_builder.download_and_prepare(val_output_dir, file_format=\"parquet\")"
   ]
  },
  {
   "cell_type": "code",
   "execution_count": null,
   "id": "c9be850a-87be-4182-85bb-fd4e63c0aef6",
   "metadata": {},
   "outputs": [],
   "source": []
  }
 ],
 "metadata": {
  "kernelspec": {
   "display_name": "Python 3 (ipykernel)",
   "language": "python",
   "name": "python3"
  },
  "language_info": {
   "codemirror_mode": {
    "name": "ipython",
    "version": 3
   },
   "file_extension": ".py",
   "mimetype": "text/x-python",
   "name": "python",
   "nbconvert_exporter": "python",
   "pygments_lexer": "ipython3",
   "version": "3.11.11"
  }
 },
 "nbformat": 4,
 "nbformat_minor": 5
}
