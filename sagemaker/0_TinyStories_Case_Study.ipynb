{
 "cells": [
  {
   "cell_type": "markdown",
   "id": "4c24eaf8-2f4e-4bec-89aa-ae6c02ac2430",
   "metadata": {},
   "source": [
    "# Case Study of the'TinyStories' Dataset\n",
    "The 'TinyStories' dataset is a large dataset that was generated using AI story request prompts and responses. It helps facilitate quick fine-tuning of models that were trained with real-world data - such as LLaMA. As this is a large dataset, and this data was generated with the help of AI, the data may have unintentionally been skewed or biased during generation. It is essential to examine the contents of this dataset and whether it is suitable to our applications content-moderation objectives with regard to literacy, mental-health, and creativity."
   ]
  },
  {
   "cell_type": "code",
   "execution_count": 25,
   "id": "062c2ff4-3e24-475b-95aa-3fbfbb3a284a",
   "metadata": {},
   "outputs": [],
   "source": [
    "# importing libraries\n",
    "from pyspark.sql import SparkSession\n",
    "from datasets import load_dataset"
   ]
  },
  {
   "cell_type": "code",
   "execution_count": 26,
   "id": "176d203f-fb16-4fd2-b16d-f8dad4516505",
   "metadata": {},
   "outputs": [],
   "source": [
    "from pyspark.sql.functions import udf, col, countDistinct\n",
    "from pyspark.sql.types import StringType, ArrayType, IntegerType\n",
    "from pyspark.accumulators import AccumulatorParam "
   ]
  },
  {
   "cell_type": "code",
   "execution_count": 27,
   "id": "c06983af-d363-42cb-99a0-15879a9e89f4",
   "metadata": {},
   "outputs": [],
   "source": [
    "import pandas as pd"
   ]
  },
  {
   "cell_type": "markdown",
   "id": "9a127284-6e5d-4520-b1fe-17fa615bc395",
   "metadata": {},
   "source": [
    "## Setting up the Distributed Processing Environment\n",
    "In this section, the spark distributed cluster is connected using AWS's elastic map reduce service via sagemaker studio."
   ]
  },
  {
   "cell_type": "code",
   "execution_count": 28,
   "id": "bad87510-bb69-4cad-a5e7-e079a9e1fcd6",
   "metadata": {
    "kernelspec": {
     "display_name": "Python 3 (ipykernel)",
     "language": "python",
     "name": "python3"
    },
    "language_info": {
     "codemirror_mode": {
      "name": "ipython",
      "version": 3
     },
     "file_extension": ".py",
     "mimetype": "text/x-python",
     "name": "python",
     "nbconvert_exporter": "python",
     "pygments_lexer": "ipython3",
     "version": "3.11.11"
    }
   },
   "outputs": [
    {
     "name": "stdout",
     "output_type": "stream",
     "text": [
      "The sagemaker_studio_analytics_extension.magics extension is already loaded. To reload it, use:\n",
      "  %reload_ext sagemaker_studio_analytics_extension.magics\n",
      "Initiating EMR Serverless connection..\n",
      "The sparkmagic.magics extension is already loaded. To reload it, use:\n",
      "  %reload_ext sparkmagic.magics\n",
      "Starting Spark application\n"
     ]
    },
    {
     "data": {
      "text/html": [
       "<table>\n",
       "<tr><th>ID</th><th>YARN Application ID</th><th>Kind</th><th>State</th><th>Spark UI</th><th>Driver log</th><th>User</th><th>Current session?</th></tr><tr><td>2</td><td>00frdv26uqfi290a</td><td>pyspark</td><td>idle</td><td><a target=\"_blank\" href=\"https://j-00frdv26uqfi290a.dashboard.emr-serverless.us-east-1.amazonaws.com/?authToken=eDAxJQ4-OOXhhPMHk8i98DPinotvFb8Xt8KMrpSyFZScEicfaoGKFXrxLRfcmzKjv_P6yI_eehBVrthYZ7WZNcJKiZd0SX7vDSZmO54CP1cuvfp4TfhlPDpRFxYMYRK1m4s5Mvpb2XCiwAoEzTcAobnhwNOFy_bDgEw6-eDBT_9FgSocxpL--dU2wyHT-QjD_OvbbZEDPyhCcQG_H-10wfOXDMztFaty8M2IZ5pCYjFN9QMu_cBspx2NG6HY3Z0cAyRuu6FntjK5CaPU496R_jloDM9B2N3Yy8ZheXNWbw9fXRw5ECPfDElO_4Z-zw7tvw55WV-dKbU7I5ajpPZP47bUjLYJtJNRsi0H__t2NO3_M_IxO5oAIPw0UWqF57zqxtulhO-n8RssHiqkNDpmadxTcnYg6UbL6iyt1xC_jwNpdrB5vXkZtQw4iumM_2T3kANDaPNG54GTZ5L0JEs9aWemtzPeAHsaPOO3I46Lla_tIgoFOs9pJkRXxzIe4pMA64dj7FB8NSu5DA22K62lz6P2Cg8UUDzvC-fZ0Bppw6zCr7fmmtpGmTacWbIa8-nBo3JLfCBgcHfQsVd0MCUtnfaeIC6QhuT3xANqigOMAjgeIN8j7xa51BAs6vnWdrEbRR7JE1yzoTQm3eOo8oPtgxAlgUHam1IrSKQ-bhW3JGEtSP02UTPH2HIkMjs8qbi6pgOHWM8LwwPrvghyf-ZiUIDzhh9wVRMrZwW9KnLqaD5SGCuvHipgtENKISx6IEXK0z0wgYCvw6WO55_V2bZ0L6Bs0zLxKQwpieIEFVhmQ3LWkeIype7kU0K5q0_ovkzbsbCAg7vH0bcYlOqqWz1t-zLlFaDUJJ_K0yeFrxHUo5dJ1Ygdo9WL-glC2zjSoZ8NecztgVoy1oLUf0vKVt7mKBYhXrdxZeynKohsKwCe83T5Ng.eyJraWQiOiJBUUlCQUhnTVJ1MlZyR2FFajR3bTc2dEZqMThGMUsyVFdZbkk4WXpxS0lRamg5YTZHZ0d1d040SDZFeGQ3Vmt6ODBwR09HYytBQUFBb2pDQm53WUpLb1pJaHZjTkFRY0dvSUdSTUlHT0FnRUFNSUdJQmdrcWhraUc5dzBCQndFd0hnWUpZSVpJQVdVREJBRXVNQkVFREo2UXZjMExUOWRuRCtRRkxBSUJFSUJicmJLS2h4ODBDM0pWaGY5bWRVK09mL2JuUnJnMFBwWUtibmFTV1VHMXN6bXJGdDNXUFk0U2Y1VXRMRlBnNEVDOStJdDNrS3hJdVB1S1ByS3owdDE3cXl0QXVJWjJzdlMrcU5LVVV0ZWxUb2s2RENrTjI1cVpOSWF4R3c9PSJ9\">Link</a></td><td><a target=\"_blank\" href=\"https://j-00frdv26uqfi290a.dashboard.emr-serverless.us-east-1.amazonaws.com/logs/SPARK_DRIVER/stderr.gz?authToken=eDAxPb37OTfZWN71A3_w6B3UIlJ_w6mJkLS1Gf7RjsLwvgOHTcr0N6IEb-aq6OCE21u63m5wfOKwLlnt-q0hYZtIHEf0sZctV7PDcW-NacgYFbAttrfmUqnQvBjzD7z0V28EFeqPPrdooKnh8o4GXv0ukAw22nfsHG2V42KvpBQTvXy9jk7PuXxy9rU27wX1UrYS6B2vEOCCBdShKzvPUtzEiVd4Eu4o6Z3R-PbPrzM1EjoTzU7U4ivdb0UiTZf_QcTZ2-SP7TrZwOWHYwS0HvlhyBwHGyFN5JYkivTHlmhDtWu6EtTKfg83a_qxIhm5fEbRO9qexZu1A_RZOa1Pgsr63Ebp0UZF3ZCK41cIWfaKu1B7FPagPb8mILyj-LbYhIy9e5T9teZ4X5nqFCDgc44Nar1E9yQzFtRxq2p_O2K4KljzO7uW2hQw_zTszc3prV6hRuFh9XunDE55m0SjxBRGMzKmBvnYCtvH_voBhk2Xm3Xa0cbnxJZPbtJhFLGr97XSKe5EJl3ou2kmMULadTt0En56L7XnEFdpkoUIK-Xm-57LockjHNzUv4enDzOtao_F8X3fqqtJZ8Z5Y6i0lGF0OeTFRWAKG0BOq7q0n9WFkWUi2Su7ED-rli1vIdIWLYgn2SarzcMZYQvHB4BwD9LhtI-0lavkxNqsOtXUT1zRyYj-FBZZsHOYCDYw24KPhhqqiJHEyukwzjsUhCPg5Pxreadefu0LBdOhO0DwbrCDHYkbpp1KUCZGMJ6jDMQSEtaP8VUMSL14fD3L3Je22nr0mS6vjuOZZ0k7zR7BQPZN9DTblds6l53l3Yhn1Z8tMB7PrXn5K9FPcx9-BVOOUu3UDGk8Ec4mfBtzREpphJdUCu3WPpRQAPjIJjW_VvUJtiHTrrrp8Z1k_LfBuelQ44DOER_iMx-1YYymU6QsLZc.eyJraWQiOiJBUUlCQUhnTVJ1MlZyR2FFajR3bTc2dEZqMThGMUsyVFdZbkk4WXpxS0lRamg5YTZHZ0ZZUm9lcGFYV3lNckVlL1dJWXR5dG5BQUFBb2pDQm53WUpLb1pJaHZjTkFRY0dvSUdSTUlHT0FnRUFNSUdJQmdrcWhraUc5dzBCQndFd0hnWUpZSVpJQVdVREJBRXVNQkVFREdwWnBOMGluVCtYczdUNE1nSUJFSUJiL1A1Q3p3b3VPSk5lUmxuaG4ybkt6SzlZcTJjSDVqeEo3WU5xN0RML2JtUXpaai9WbE5DQTZmR3JFSnEvdHh5K2tOdXhVNkdUbTNyWDRWMVA2ZHgzbzd2NDBOd1F5THZLbGFYcmRuT3Z2bHJDTld0TzAwMERlZXA1YlE9PSJ9\">Link</a></td><td>None</td><td>✔</td></tr></table>"
      ],
      "text/plain": [
       "<IPython.core.display.HTML object>"
      ]
     },
     "metadata": {},
     "output_type": "display_data"
    },
    {
     "data": {
      "application/vnd.jupyter.widget-view+json": {
       "model_id": "4921b94e7f2345cc82fc2139ff535f8d",
       "version_major": 2,
       "version_minor": 0
      },
      "text/plain": [
       "FloatProgress(value=0.0, bar_style='info', description='Progress:', layout=Layout(height='25px', width='50%'),…"
      ]
     },
     "metadata": {},
     "output_type": "display_data"
    },
    {
     "name": "stdout",
     "output_type": "stream",
     "text": [
      "SparkSession available as 'spark'.\n"
     ]
    }
   ],
   "source": [
    "%load_ext sagemaker_studio_analytics_extension.magics\n",
    "%sm_analytics emr-serverless connect --application-id 00fra2001bfrlm09 --language python --emr-execution-role-arn arn:aws:iam::597161074694:role/service-role/AmazonEMR-ServiceRole-20250211T131858"
   ]
  },
  {
   "cell_type": "code",
   "execution_count": 29,
   "id": "c4d6dda3-922e-4a43-bd46-44fc1f95060a",
   "metadata": {},
   "outputs": [],
   "source": [
    "# connecting to the spark session\n",
    "spark = SparkSession.builder \\\n",
    "    .master('local[*]') \\\n",
    "    .config(\"spark.driver.memory\", \"64g\") \\\n",
    "    .appName('spark') \\\n",
    "    .getOrCreate()"
   ]
  },
  {
   "cell_type": "markdown",
   "id": "969a931d-75ee-47a5-b493-b699924dde3b",
   "metadata": {},
   "source": [
    "# Statistical Metrics\n",
    "In this section, the basic statistical metrics are calculated to be used for further data analysis and visualization in the following sections."
   ]
  },
  {
   "cell_type": "markdown",
   "id": "76440b2b-338d-4c36-970a-a24e86d3ca5b",
   "metadata": {},
   "source": [
    "## Loading the Data"
   ]
  },
  {
   "cell_type": "code",
   "execution_count": 30,
   "id": "7035db01-cc5e-4af1-975b-81b60cf42655",
   "metadata": {},
   "outputs": [],
   "source": [
    "data = load_dataset(\"skeskinen/TinyStories-GPT4\")"
   ]
  },
  {
   "cell_type": "code",
   "execution_count": 31,
   "id": "9120ad9e-80ea-449b-9132-8cfc2ff045a6",
   "metadata": {},
   "outputs": [],
   "source": [
    "train = spark.createDataFrame(data['train'])"
   ]
  },
  {
   "cell_type": "markdown",
   "id": "ec3dc728-519e-4fcd-bf65-c87578ae50ce",
   "metadata": {},
   "source": [
    "## Defining the Spark Functions"
   ]
  },
  {
   "cell_type": "code",
   "execution_count": 32,
   "id": "d61094c5-1189-48aa-bc05-34a79f867ef9",
   "metadata": {},
   "outputs": [],
   "source": [
    "class WordCountAccumulator(AccumulatorParam):\n",
    "    def zero(self, value):\n",
    "        return {}\n",
    "\n",
    "    def addInPlace(self, v1, v2):\n",
    "        # v1 is the accumulator's current state\n",
    "        # v2 is the new dictionary being added from a partition\n",
    "        for word, count in v2.items():\n",
    "            if word is not None and word.strip():\n",
    "                v1[word] = v1.get(word, 0) + count\n",
    "        return v1"
   ]
  },
  {
   "cell_type": "code",
   "execution_count": 33,
   "id": "8dedae9d-3f0d-4cad-bd6c-14015dcbe7e3",
   "metadata": {},
   "outputs": [],
   "source": [
    "def normalize_and_count_unique(strings):\n",
    "    if strings is None:\n",
    "        return None\n",
    "    normalized_strings = [s.strip().lower() for s in strings if s is not None and s.strip()]\n",
    "    return normalized_strings\n",
    "# the sparkerized user defined function to normalize the words/features for comparison\n",
    "normalize_count_udf = udf(normalize_and_count_unique, ArrayType(StringType())) # Assuming string type"
   ]
  },
  {
   "cell_type": "code",
   "execution_count": 34,
   "id": "38106c55-c149-4c3b-8a3d-0ba335295174",
   "metadata": {},
   "outputs": [],
   "source": [
    "# applying the accumulator across partitions of the dataset based on col type\n",
    "def process_features_partition(partition_iterator, col_type):\n",
    "    # Initialize local counter for this partition\n",
    "    partition_features = {}\n",
    "    \n",
    "    # Process each row in the partition\n",
    "    for row in partition_iterator:\n",
    "        features = row[\"normalized_\" + col_type]\n",
    "        if features is not None:\n",
    "            # Handle both string and list cases\n",
    "            words = features.split() if isinstance(features, str) else features\n",
    "            \n",
    "            # Count words in this row\n",
    "            for word in words:\n",
    "                if word and word.strip():\n",
    "                    word = word.strip()\n",
    "                    partition_features[word] = partition_features.get(word, 0) + 1\n",
    "    \n",
    "    # Add the partition counts to the accumulator\n",
    "    if partition_features and col_type == 'features':\n",
    "        features_accumulator.add(partition_features)\n",
    "    elif partition_features and col_type == 'words':\n",
    "        words_accumulator.add(partition_features)\n",
    "    \n",
    "    # Return the iterator for the partition\n",
    "    return iter([1])  # Return dummy value to force evaluation"
   ]
  },
  {
   "cell_type": "markdown",
   "id": "6dc36795-25a2-432f-bceb-82672500d821",
   "metadata": {},
   "source": [
    "## Data Prep"
   ]
  },
  {
   "cell_type": "markdown",
   "id": "b8316a04-9656-49f6-a94f-c1b7342db371",
   "metadata": {},
   "source": [
    "### Adding the Normalized Columns For Words/Features\n",
    "UDF / user defined functions applied on the spark dataset should be added as columns prior to partitioning / converting the dataset."
   ]
  },
  {
   "cell_type": "code",
   "execution_count": 35,
   "id": "cc876450-a892-490c-b7b2-837d480c0056",
   "metadata": {},
   "outputs": [],
   "source": [
    "train = train.withColumn(\"normalized_features\", normalize_count_udf(col(\"features\")))"
   ]
  },
  {
   "cell_type": "code",
   "execution_count": 36,
   "id": "06e45668-785b-4257-86a4-15ea50318eb4",
   "metadata": {},
   "outputs": [],
   "source": [
    "train = train.withColumn(\"normalized_words\", normalize_count_udf(col(\"words\")))"
   ]
  },
  {
   "cell_type": "markdown",
   "id": "4f741d88-d0c6-440b-aba9-75b5ded7fb54",
   "metadata": {},
   "source": [
    "### Partitioning the Dataset for Mapping the Accumulator"
   ]
  },
  {
   "cell_type": "code",
   "execution_count": 37,
   "id": "51272978-5d80-44ad-b251-6bf18ffaf170",
   "metadata": {},
   "outputs": [],
   "source": [
    "# Ensure proper partitioning\n",
    "num_partitions = 200  # Adjust based on your cluster size\n",
    "train = train.repartition(num_partitions)"
   ]
  },
  {
   "cell_type": "code",
   "execution_count": 38,
   "id": "a0425f99-27c4-417b-bd3f-3a524f3f337d",
   "metadata": {
    "scrolled": true
   },
   "outputs": [
    {
     "name": "stderr",
     "output_type": "stream",
     "text": [
      "25/04/01 20:27:27 WARN TaskSetManager: Stage 0 contains a task of very large size (223671 KiB). The maximum recommended task size is 1000 KiB.\n",
      "[Stage 0:=====================>                                   (6 + 10) / 16]"
     ]
    },
    {
     "name": "stdout",
     "output_type": "stream",
     "text": [
      "Number of partitions: 200\n"
     ]
    },
    {
     "name": "stderr",
     "output_type": "stream",
     "text": [
      "[Stage 0:=======================================>                 (11 + 5) / 16]"
     ]
    }
   ],
   "source": [
    "# Verify the number of partitions\n",
    "print(f\"Number of partitions: {train.rdd.getNumPartitions()}\")"
   ]
  },
  {
   "cell_type": "markdown",
   "id": "49a009cc-b815-46a6-8035-8f19df9a09a6",
   "metadata": {},
   "source": [
    "### Narrative Features"
   ]
  },
  {
   "cell_type": "code",
   "execution_count": 39,
   "id": "0ef23c57-99ec-4982-887a-43043bf26e69",
   "metadata": {},
   "outputs": [
    {
     "data": {
      "text/plain": [
       "['features',\n",
       " 'prompt',\n",
       " 'source',\n",
       " 'story',\n",
       " 'summary',\n",
       " 'words',\n",
       " 'normalized_features',\n",
       " 'normalized_words']"
      ]
     },
     "execution_count": 39,
     "metadata": {},
     "output_type": "execute_result"
    }
   ],
   "source": [
    "train.columns"
   ]
  },
  {
   "cell_type": "code",
   "execution_count": 40,
   "id": "3fafc262-54fc-4e58-85b8-e61ed5952ea7",
   "metadata": {},
   "outputs": [],
   "source": [
    "features_accumulator = spark.sparkContext.accumulator(\n",
    "    {}, WordCountAccumulator())"
   ]
  },
  {
   "cell_type": "code",
   "execution_count": 41,
   "id": "d70698a4-77e7-4fe7-9c9e-045e016ce9d5",
   "metadata": {},
   "outputs": [
    {
     "name": "stderr",
     "output_type": "stream",
     "text": [
      "                                                                                "
     ]
    }
   ],
   "source": [
    "# Force evaluation and verify processing\n",
    "col_type = \"features\"  # or whatever column name you want to process\n",
    "total_partitions = train.rdd.mapPartitions(\n",
    "    lambda partition: process_features_partition(partition, col_type)\n",
    ").count()"
   ]
  },
  {
   "cell_type": "code",
   "execution_count": 42,
   "id": "4cf566c7-7e6d-412c-8c13-174ac803d3a7",
   "metadata": {},
   "outputs": [
    {
     "data": {
      "text/plain": [
       "{'dialogue': 1470404,\n",
       " 'moralvalue': 274152,\n",
       " 'twist': 539383,\n",
       " 'foreshadowing': 250789,\n",
       " 'badending': 250300,\n",
       " 'conflict': 250696}"
      ]
     },
     "execution_count": 42,
     "metadata": {},
     "output_type": "execute_result"
    }
   ],
   "source": [
    "# Get the final word counts\n",
    "features_accumulator.value"
   ]
  },
  {
   "cell_type": "code",
   "execution_count": 43,
   "id": "fbf14c1b-3bdf-4412-b33b-3d2124ba357f",
   "metadata": {},
   "outputs": [
    {
     "data": {
      "text/plain": [
       "dialogue         1470404\n",
       "moralvalue        274152\n",
       "twist             539383\n",
       "foreshadowing     250789\n",
       "badending         250300\n",
       "conflict          250696\n",
       "dtype: int64"
      ]
     },
     "execution_count": 43,
     "metadata": {},
     "output_type": "execute_result"
    }
   ],
   "source": [
    "feature_occurences = pd.Series(features_accumulator.value)\n",
    "feature_occurences"
   ]
  },
  {
   "cell_type": "markdown",
   "id": "308dc61e-afde-4215-83ed-f19f66d71218",
   "metadata": {},
   "source": [
    "### Key Words"
   ]
  },
  {
   "cell_type": "code",
   "execution_count": 45,
   "id": "bf71fa2e-0088-42cc-9f25-76a349eb8c1b",
   "metadata": {},
   "outputs": [],
   "source": [
    "words_accumulator = spark.sparkContext.accumulator(\n",
    "    {}, WordCountAccumulator())"
   ]
  },
  {
   "cell_type": "code",
   "execution_count": 46,
   "id": "b578fb80-c7f7-4fba-8eae-9b928be416e9",
   "metadata": {},
   "outputs": [
    {
     "name": "stderr",
     "output_type": "stream",
     "text": [
      "                                                                                "
     ]
    }
   ],
   "source": [
    "# Force evaluation and verify processing\n",
    "col_type = \"words\"  # or whatever column name you want to process\n",
    "total_partitions = train.rdd.mapPartitions(\n",
    "    lambda partition: process_features_partition(partition, col_type)\n",
    ").count()"
   ]
  },
  {
   "cell_type": "code",
   "execution_count": 47,
   "id": "d2737b45-5d55-43eb-891a-ea43257b740b",
   "metadata": {},
   "outputs": [
    {
     "data": {
      "text/plain": [
       "say           6978\n",
       "wait          2566\n",
       "curious      11235\n",
       "embarrass     7051\n",
       "leaf          2633\n",
       "dtype: int64"
      ]
     },
     "execution_count": 47,
     "metadata": {},
     "output_type": "execute_result"
    }
   ],
   "source": [
    "word_occurrences = pd.Series(words_accumulator.value)\n",
    "word_occurrences.head()"
   ]
  },
  {
   "cell_type": "code",
   "execution_count": 49,
   "id": "83ade00e-9050-44c5-a976-0ccc465cdc6b",
   "metadata": {},
   "outputs": [],
   "source": [
    "spark.stop()"
   ]
  },
  {
   "cell_type": "markdown",
   "id": "aefb81cf-68dc-4308-bb0b-0a0458b37be1",
   "metadata": {},
   "source": [
    "# Statistical Analysis and Visualization\n",
    "In this section the statistical metrics calculated from the training data is analyzed and visualized for making insights with regards to the stated objectives. Furthermore, given the complexity in understanding the level of literacy from the data - as no 'literacy level' column is within the data - a language model is used to classify the responses."
   ]
  },
  {
   "cell_type": "markdown",
   "id": "6df75014-1d5f-4484-8ecc-7dbd649859c6",
   "metadata": {},
   "source": [
    "## Mental Health\n",
    "As for mental-health, goals may be defined in objective terms by inferring the emotions, subjects, topics, genres, or any commonly used keywords related to mental-health within the data. For this purpose, we can use the list of words and narrative features provided within the prompts provided to the AI in the training data for each row in the dataset. By counting the occurences of the 'words' and 'features' columns used within the prompt, we can make some insights of the mental-health objectives."
   ]
  },
  {
   "cell_type": "markdown",
   "id": "d8a59623-ae76-4955-9d9b-568d28f23951",
   "metadata": {},
   "source": [
    "### Narrative Features\n",
    "Some of the 'feature narrative' words provided to the model within the prompt template's in the training dataset give insight into whether the story may contain any emotional subjects or topics related to mental health. A bar plot is shown that highlights the amount of each feature narrative."
   ]
  },
  {
   "cell_type": "code",
   "execution_count": 56,
   "id": "146f658a-e0a0-4cea-9dff-50235fe50147",
   "metadata": {},
   "outputs": [
    {
     "data": {
      "text/plain": [
       "<Axes: >"
      ]
     },
     "execution_count": 56,
     "metadata": {},
     "output_type": "execute_result"
    },
    {
     "data": {
      "image/png": "[encoded data removed]",
      "text/plain": [
       "<Figure size 640x480 with 1 Axes>"
      ]
     },
     "metadata": {},
     "output_type": "display_data"
    }
   ],
   "source": [
    "feature_occurences.sort_values(ascending=False).plot(kind='bar')"
   ]
  },
  {
   "cell_type": "code",
   "execution_count": 51,
   "id": "a781e8d5-7e04-4f6c-9c86-f6c5956d79af",
   "metadata": {},
   "outputs": [
    {
     "data": {
      "text/plain": [
       "count    6.000000e+00\n",
       "mean     5.059540e+05\n",
       "std      4.859297e+05\n",
       "min      2.503000e+05\n",
       "25%      2.507192e+05\n",
       "50%      2.624705e+05\n",
       "75%      4.730752e+05\n",
       "max      1.470404e+06\n",
       "dtype: float64"
      ]
     },
     "execution_count": 51,
     "metadata": {},
     "output_type": "execute_result"
    }
   ],
   "source": [
    "feature_occurences.describe()"
   ]
  },
  {
   "cell_type": "markdown",
   "id": "5597580b-4b35-41d0-af73-0c61bf333b28",
   "metadata": {},
   "source": [
    "### Key Words"
   ]
  },
  {
   "cell_type": "code",
   "execution_count": null,
   "id": "df96a258-e31a-4c13-8565-14b33c56a34c",
   "metadata": {},
   "outputs": [],
   "source": []
  },
  {
   "cell_type": "markdown",
   "id": "3fd998ba-ff46-4b64-8e2b-ee6204b0f96c",
   "metadata": {},
   "source": [
    "## Creativity\n",
    "Objectively speaking, creativity is a hard goal to define as it can be objectively defined in a multitude of way, as are the aforementioned topics of literacy and mental-health. However, many people might agree that creativity is somehow unique. Therefore, it may be possible to define the goal of creativity by understanding the level of variance in the models responses to similar prompts. "
   ]
  },
  {
   "cell_type": "markdown",
   "id": "59f1208f-6551-416f-b2fd-fa38ecdda796",
   "metadata": {},
   "source": [
    "### Narrative Features"
   ]
  },
  {
   "cell_type": "code",
   "execution_count": null,
   "id": "90491eec-8cb5-42ad-abfd-305aee7a9d8b",
   "metadata": {},
   "outputs": [],
   "source": []
  },
  {
   "cell_type": "markdown",
   "id": "93ee291c-d84f-4489-8ad3-f79b2571d6a8",
   "metadata": {},
   "source": [
    "### Key Words"
   ]
  },
  {
   "cell_type": "code",
   "execution_count": null,
   "id": "6a68a1de-6d5b-4539-8d64-c9e87c48c414",
   "metadata": {},
   "outputs": [],
   "source": []
  },
  {
   "cell_type": "markdown",
   "id": "222ecc21-098d-496b-80bb-eca1404a95c0",
   "metadata": {},
   "source": [
    "## Literacy\n",
    "WonderWords' literacy goals may be defined in objective terms by classifying whether the responses are at a lower or a higher reading level. As our application is targeting a youth demographic, utilizing the categorization system used in most libraries and school systems will help illustrate whether the training data is biased towards a specific set of reading levels."
   ]
  },
  {
   "cell_type": "markdown",
   "id": "48b200ee-d5c3-4739-b838-cf45c8178188",
   "metadata": {},
   "source": [
    "### Narrative Features"
   ]
  },
  {
   "cell_type": "code",
   "execution_count": null,
   "id": "38177bf0-ac7e-4183-bc32-d5f676d902ab",
   "metadata": {},
   "outputs": [],
   "source": []
  },
  {
   "cell_type": "markdown",
   "id": "c565b142-89e5-46fd-b0a1-f329df17c00a",
   "metadata": {},
   "source": [
    "### Key Words"
   ]
  },
  {
   "cell_type": "code",
   "execution_count": null,
   "id": "7bd8ea5a-dac6-4d96-a73d-74abc5c93a72",
   "metadata": {},
   "outputs": [],
   "source": []
  }
 ],
 "metadata": {
  "kernelspec": {
   "display_name": "Python 3 (ipykernel)",
   "language": "python",
   "name": "python3"
  },
  "language_info": {
   "codemirror_mode": {
    "name": "ipython",
    "version": 3
   },
   "file_extension": ".py",
   "mimetype": "text/x-python",
   "name": "python",
   "nbconvert_exporter": "python",
   "pygments_lexer": "ipython3",
   "version": "3.11.11"
  }
 },
 "nbformat": 4,
 "nbformat_minor": 5
}
