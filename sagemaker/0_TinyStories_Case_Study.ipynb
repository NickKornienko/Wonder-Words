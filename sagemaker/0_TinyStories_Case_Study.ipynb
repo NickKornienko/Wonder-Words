{
 "cells": [
  {
   "cell_type": "code",
   "execution_count": 1,
   "id": "bad87510-bb69-4cad-a5e7-e079a9e1fcd6",
   "metadata": {
    "kernelspec": {
     "display_name": "Python 3 (ipykernel)",
     "language": "python",
     "name": "python3"
    },
    "language_info": {
     "codemirror_mode": {
      "name": "ipython",
      "version": 3
     },
     "file_extension": ".py",
     "mimetype": "text/x-python",
     "name": "python",
     "nbconvert_exporter": "python",
     "pygments_lexer": "ipython3",
     "version": "3.11.11"
    }
   },
   "outputs": [
    {
     "name": "stdout",
     "output_type": "stream",
     "text": [
      "Waiting for EMR Serverless application state to become STARTED\n",
      "Waiting for EMR Serverless application state to become STARTED\n",
      "Initiating EMR Serverless connection..\n",
      "Starting Spark application\n"
     ]
    },
    {
     "data": {
      "text/html": [
       "<table>\n",
       "<tr><th>ID</th><th>YARN Application ID</th><th>Kind</th><th>State</th><th>Spark UI</th><th>Driver log</th><th>User</th><th>Current session?</th></tr><tr><td>0</td><td>00fra220e8mvd90a</td><td>pyspark</td><td>idle</td><td><a target=\"_blank\" href=\"https://j-00fra220e8mvd90a.dashboard.emr-serverless.us-east-1.amazonaws.com/?authToken=eDAxfwhSjXjGY0Wa-NkW-CHShbhRDW1wwZL-fs8hiZHY0iG2OhT1Hs2KXIFpXxqZejMSPlPNKXK8mitCMB81Tmip6GfRikc1dlj5DVBrCw-R5T_mRattPua-EcVMklAWAVNAEM5w1CU-fyibfG_yz4kpp0dBsB9g-jy-am2KNNjXKZZtxySHSGkYE-HNPE3AfN3lJC09ekHw4A_B2o_Ij014jzYKQ-y6gbO4K7crSZ2q3F1Sd9VtOYP9D5J8iumFDHDZkolIHFlYVXdQOwXcvOgbrCbcX-DWu9kRw-QL_HfcgdO6wz84qDwmp28ktLVqAmTz4ICCU5ivtuZvn4kRlZcuKO_Y9xuGy622V-6NuF87BUhLs95wisbu-FEQDkbT-WCzgpo5x1ijzi8XPaq2NFvWZlQmar3IldsS-6VFrSc_cpuAJBrMDQbJFe-34U7HlaoNT0WGKmBDst44-ILU5VpFYCbFEZ4_GZ298Nq8aMFxlhBzc9iMOeg8D5uTJMIcrdARgJYDivaHNRe20vQi06HmPWE3rdd85xQt1f7MheNIzbXkt8EFdfa-C0lJuDxwOp5G1mqNe0CuI7BvyqBc-WwXrefRTmSKtcrPLYoTDR4GxhwQRkag50EK7CpJVYfER1yltOh1VBH6fmZjBZMALqNDQt-c1rvwaJJgIz0BCnFgK3qWoivStR1uStO-2NccnlaFnCr-qleOHv_Y_zlXTsK5zMCrPFXKWzwhaSMGCFpAsKhm2VHjDMhejFYrJ9QzS60KHukZVNlpLJFR5StgmCvvkNFbZMu4gO4ZmfQZRyX4-PfHXwBMtdBH79Z2zFGQ1F22b-Rv25GQaa8Y3mer1rbKqOWk1JeYyjmqzOSraWo8FnrAwABQ0WtcrVKsRix3hkhtPdWORm7KSRNR4VK8Cn3wXQNYgf5dPtG-3N947Mw.eyJraWQiOiJBUUlCQUhnTVJ1MlZyR2FFajR3bTc2dEZqMThGMUsyVFdZbkk4WXpxS0lRamg5YTZHZ0YrR2dPYWtGT2xFb3pNNHdkMUhJclpBQUFBb2pDQm53WUpLb1pJaHZjTkFRY0dvSUdSTUlHT0FnRUFNSUdJQmdrcWhraUc5dzBCQndFd0hnWUpZSVpJQVdVREJBRXVNQkVFREdsdEJISmRtTnBGdGxCanlBSUJFSUJiNG5GV2R1cDFRd3Y4ajNscFdpMG8xSUxwNU9qT3dCYlJRRzVqZnFiSUZMWDlUc2EzdkgvTTA2TGdrTHBkMS9oeXViNVlSSk5hSmVGYnhjaytxTFZNL0I4UU94ZDIyeS9xZjRHMVVpMGdnZFh4L2xmNmNWTEpGK0JXWGc9PSJ9\">Link</a></td><td><a target=\"_blank\" href=\"https://j-00fra220e8mvd90a.dashboard.emr-serverless.us-east-1.amazonaws.com/logs/SPARK_DRIVER/stderr.gz?authToken=eDAxbY5kH_1QpU2r1ncVIZf3fLWSJH00h5fSddAJlYanGFRdLeAd-8A61sYaXI1gvSpkmjoXhbGQvLuUU9hPtW2KKb5SvIxornDrRqmo-UJs85G9KxczfetNt9S5MGvYFOVmn9GoKRPwFisGP2Ii6hYNqNTKPsW0pK9Sat1ZzGeUBjiuEjv01xRPxnFahL09sKtbwvHX9euiAGoGAr6vBwdGq0iidT23pHcDyodO6s5nJ9XimwjqAlo5uAnhyi6YaG3T8WkBtL5xVTgrkidk0NRKIPuNpPfBDD4qbICM5O2-mCcAb1_LnWNB768k60yAQsfuKvg8Y5lwcszAO3EWxXGg6lp0OLVIuUfYid0q_NdQWdsx05NiaxHN5zF2O_3E5DvCM7QgdDt44N_LCgF7eeISeRR4Zmjl0Y7WVQxjWuZEGF-5o_MjRU9ad-4W2zvR0eCNPeWqHYVz0u-jb2yOTx6N2HWZa5PZCqyQ_RbXur2wn6BbfFskjWeffHVDCSjaTRv8jJciXoXWwXo7eS7mvpJqBwkY6whIZADcPfeWzJ1Fsq_Oyd-zEPVPMf0EPNLoHPI1Iw6z6Fiee8DvOLQtCRQXa8w2njMHjJz9XcnMFktZch_cuLpnUinilSIQg44bb0Nj1GCP3QnJaqFZCA8xWggzaO9fcGHKdKH_Wx3btle6sfgIgVQLrFTboKflT4PiUJI-39MniYhKhMdZ6p97ViwIWZuwJFepQ-duteQrVqZiVV2tZVx0ZJqxKgrZOkIl8WteuWHRhpoXzKilolydWop3Y_YKMz63rwj1PNZPBDry3f0mrQXr3MnefaTTrV3Q_CgobwlRNgQCNWH40KxqaYWLt1jAjBTesMKj0c7w72G3Y1gJXF1nJkZ6DYsncDYItd_wecrT8btJyxxK-HQcINsNCWJNZyRM-a3p4JqdYxF5Xw.eyJraWQiOiJBUUlCQUhnTVJ1MlZyR2FFajR3bTc2dEZqMThGMUsyVFdZbkk4WXpxS0lRamg5YTZHZ0YrR2dPYWtGT2xFb3pNNHdkMUhJclpBQUFBb2pDQm53WUpLb1pJaHZjTkFRY0dvSUdSTUlHT0FnRUFNSUdJQmdrcWhraUc5dzBCQndFd0hnWUpZSVpJQVdVREJBRXVNQkVFREdsdEJISmRtTnBGdGxCanlBSUJFSUJiNG5GV2R1cDFRd3Y4ajNscFdpMG8xSUxwNU9qT3dCYlJRRzVqZnFiSUZMWDlUc2EzdkgvTTA2TGdrTHBkMS9oeXViNVlSSk5hSmVGYnhjaytxTFZNL0I4UU94ZDIyeS9xZjRHMVVpMGdnZFh4L2xmNmNWTEpGK0JXWGc9PSJ9\">Link</a></td><td>None</td><td>✔</td></tr></table>"
      ],
      "text/plain": [
       "<IPython.core.display.HTML object>"
      ]
     },
     "metadata": {},
     "output_type": "display_data"
    },
    {
     "data": {
      "application/vnd.jupyter.widget-view+json": {
       "model_id": "f52df28744ce443c92e20607810bbd6c",
       "version_major": 2,
       "version_minor": 0
      },
      "text/plain": [
       "FloatProgress(value=0.0, bar_style='info', description='Progress:', layout=Layout(height='25px', width='50%'),…"
      ]
     },
     "metadata": {},
     "output_type": "display_data"
    },
    {
     "name": "stdout",
     "output_type": "stream",
     "text": [
      "SparkSession available as 'spark'.\n"
     ]
    }
   ],
   "source": [
    "%load_ext sagemaker_studio_analytics_extension.magics\n",
    "%sm_analytics emr-serverless connect --application-id 00fra2001bfrlm09 --language python --emr-execution-role-arn arn:aws:iam::597161074694:role/service-role/AmazonEMR-ServiceRole-20250211T131858"
   ]
  },
  {
   "cell_type": "code",
   "execution_count": 1,
   "id": "c00caaca-8381-4f8c-bb45-aeff65714307",
   "metadata": {},
   "outputs": [],
   "source": [
    "import boto3"
   ]
  },
  {
   "cell_type": "code",
   "execution_count": null,
   "id": "c4d6dda3-922e-4a43-bd46-44fc1f95060a",
   "metadata": {},
   "outputs": [],
   "source": [
    "sagemaker_client = boto3.client('sagemaker')"
   ]
  },
  {
   "cell_type": "code",
   "execution_count": 6,
   "id": "f9d479a3-8439-4b16-9bc8-179a92d18534",
   "metadata": {},
   "outputs": [
    {
     "data": {
      "text/plain": [
       "{'NextToken': '',\n",
       " 'ClusterSummaries': [],\n",
       " 'ResponseMetadata': {'RequestId': '346b74b8-9ee2-49a4-8800-cb9302ca72d8',\n",
       "  'HTTPStatusCode': 200,\n",
       "  'HTTPHeaders': {'x-amzn-requestid': '346b74b8-9ee2-49a4-8800-cb9302ca72d8',\n",
       "   'content-type': 'application/x-amz-json-1.1',\n",
       "   'content-length': '38',\n",
       "   'date': 'Thu, 27 Mar 2025 23:13:50 GMT'},\n",
       "  'RetryAttempts': 0}}"
      ]
     },
     "execution_count": 6,
     "metadata": {},
     "output_type": "execute_result"
    }
   ],
   "source": [
    "sagemaker_client.list_clusters()"
   ]
  },
  {
   "cell_type": "code",
   "execution_count": null,
   "id": "33ffb8de-f3c8-4c42-af80-3b42757a2e03",
   "metadata": {},
   "outputs": [],
   "source": []
  }
 ],
 "metadata": {
  "kernelspec": {
   "display_name": "Python 3 (ipykernel)",
   "language": "python",
   "name": "python3"
  },
  "language_info": {
   "codemirror_mode": {
    "name": "ipython",
    "version": 3
   },
   "file_extension": ".py",
   "mimetype": "text/x-python",
   "name": "python",
   "nbconvert_exporter": "python",
   "pygments_lexer": "ipython3",
   "version": "3.11.11"
  }
 },
 "nbformat": 4,
 "nbformat_minor": 5
}
