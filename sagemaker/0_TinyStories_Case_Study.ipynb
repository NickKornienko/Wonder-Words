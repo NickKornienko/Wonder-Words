{
 "cells": [
  {
   "cell_type": "markdown",
   "id": "4c24eaf8-2f4e-4bec-89aa-ae6c02ac2430",
   "metadata": {},
   "source": [
    "# Case Study of the'TinyStories' Dataset\n",
    "The 'TinyStories' dataset is a large dataset that was generated using AI story request prompts and responses. It helps facilitate quick fine-tuning of models that were trained with real-world data - such as LLaMA. As this is a large dataset, and this data was generated with the help of AI, the data may have unintentionally been skewed or biased during generation. It is essential to examine the contents of this dataset and whether it is suitable to our applications content-moderation objectives with regard to literacy, mental-health, and creativity."
   ]
  },
  {
   "cell_type": "code",
   "execution_count": 1,
   "id": "062c2ff4-3e24-475b-95aa-3fbfbb3a284a",
   "metadata": {},
   "outputs": [],
   "source": [
    "# importing libraries\n",
    "from pyspark.sql import SparkSession\n",
    "from datasets import load_dataset\n",
    "## updating the datasets package\n",
    "#!pip install -U datasets"
   ]
  },
  {
   "cell_type": "markdown",
   "id": "9a127284-6e5d-4520-b1fe-17fa615bc395",
   "metadata": {},
   "source": [
    "## Setting up the Distributed Processing Environment"
   ]
  },
  {
   "cell_type": "code",
   "execution_count": 2,
   "id": "bad87510-bb69-4cad-a5e7-e079a9e1fcd6",
   "metadata": {
    "kernelspec": {
     "display_name": "Python 3 (ipykernel)",
     "language": "python",
     "name": "python3"
    },
    "language_info": {
     "codemirror_mode": {
      "name": "ipython",
      "version": 3
     },
     "file_extension": ".py",
     "mimetype": "text/x-python",
     "name": "python",
     "nbconvert_exporter": "python",
     "pygments_lexer": "ipython3",
     "version": "3.11.11"
    }
   },
   "outputs": [
    {
     "name": "stdout",
     "output_type": "stream",
     "text": [
      "Initiating EMR Serverless connection..\n",
      "Starting Spark application\n"
     ]
    },
    {
     "data": {
      "text/html": [
       "<table>\n",
       "<tr><th>ID</th><th>YARN Application ID</th><th>Kind</th><th>State</th><th>Spark UI</th><th>Driver log</th><th>User</th><th>Current session?</th></tr><tr><td>5</td><td>00fraqpr3nfp3h0a</td><td>pyspark</td><td>idle</td><td><a target=\"_blank\" href=\"https://j-00fraqpr3nfp3h0a.dashboard.emr-serverless.us-east-1.amazonaws.com/?authToken=eDAxwhvpUCc45IXAJJNreODqZYpcpD01JckE9uCTmOPgHZqhXK8J0bmnT3TWKgDnldcUV7fSJ0Efn5d_aWHTSVUEKsYghdFOzoubB_mVyYX0fuLo0JVja4RCEyKH0IV6xf_WTDhHWJMdO5BcZv5q8DKvrEJjsWYeuZIe-nCnD3EQ7XiM3m6qoxVwVZjXucmi2fEpG__XXYMFZxHVouUAaD8DAi-wqgtZ3utXrdAELZF3SQXpKqREFLH9TvDn2_bw6QOs29jFWL0cg8CP8CmNod-oPpBIzl7HqV2humMTNIWUY2ZpBZHQAgE8O7GLDxArBqFvbx8PGulT6HLgDXAWDHfR6hRoX_EtR65KSwC3k9IyNZJG8eK0FLHThlQhnusvBoJTFhHq1pbdK91KEikjz9CWNHsH0pZtD_rvGocsdS_ylm3P7u2TpIcU71QzCFydVC8Q-TTAral2t-jz9Sp8W_k50bkaw-h7k925Uh6mdUfMHQpqVdHkosNchivm4nSPuqyEHmdsyhlkytqjoEKcj19GEqz2YjBzD_HnrODZWCLHQRLFVNuGx9dflZH5T3OSay8_M5-BepKy8Uc6UmY4Sn2LyhvU-_g6FShg2qFjhyVNYCt5xvPWr-YrbFdXDPViVyOJn5NaCAEDPz0XU33i2biBHXZLXqjp4ejvvZZzR5U4MqVuchR5e_C-n4vCW5fkQFe9zL2Rg7qgHUywJmgYGW3f4a5KePArE4BVVU9sabtdm2eqNR0gzhS2mazBDO1_6d_3TFi66FMo5Ns53xMdz1Mrk9_8BrC_V7eBIyDSdsKDfk_OV7Dyo_PHdo1j90seKOnz-fVVODUNwwIXLtjJLZOIlqdZHuPxlWWnj6aRkx3jpDOPEu50I5ueCC20Wpb7DGci-nu64lGZTU_A6dWXpiXyRNF9jcEjIR1de_DHTWejBQ.eyJraWQiOiJBUUlCQUhnTVJ1MlZyR2FFajR3bTc2dEZqMThGMUsyVFdZbkk4WXpxS0lRamg5YTZHZ0YrUU9Fb3lIYnArZDhuSjg4S1NCR1dBQUFBb2pDQm53WUpLb1pJaHZjTkFRY0dvSUdSTUlHT0FnRUFNSUdJQmdrcWhraUc5dzBCQndFd0hnWUpZSVpJQVdVREJBRXVNQkVFRERmK0FINGZqRmZ1MW9waFNBSUJFSUJiQmNHbWtHV0JBcklWelZOcmM2clp5VlVSNGZNS0s1ekU1MmFKRmFWQnREZlFkQlpIeHRwZ1M5enBxVURLeXJtazNVeVJoTWZaa0NDYitYZVZ1TUdJMnpMQzZqOTQ5NnNSTWhRZktNSEpvWUJFVFZRcFJNMnpoVnU0b1E9PSJ9\">Link</a></td><td><a target=\"_blank\" href=\"https://j-00fraqpr3nfp3h0a.dashboard.emr-serverless.us-east-1.amazonaws.com/logs/SPARK_DRIVER/stderr.gz?authToken=eDAx2cgLivlfaG6iKsm7UkLZevFEdGPzl2a7QteMf0_yNE7DP0RDgf8awy9oOAKVZHP0UKVBidPY2W8fR2z1VGewCj6kVFE-1SzX2Orr8k1Hxhd08g9TR6AiITQ1yjkHbNSMVaRibHWSFH5ER12-uiDNn60BFPJSJEynBEHlE7XiO3SiLGxzK377RWrKpxdMPWEQCWqFrKAT-R7ncm5WUS7en0egzcfJszrCAgdaQeoC-gYu04NGTqkpO-FTywaHwvBSKohRfVwI2knlHwSnyb83vL5uSXityNrsHCWbiX9M-FR8y94Q2vcq-ypSmMwBaEYU8JoR1AUhsO6_aelJy9a5MIcGExIPH0XxtRV0fTH1h-J5KOPJaF3myR4XnpD19u8cDDFccDdQkRB1EY_qsMt4kvWTrYnr3WcZ73iIl_i9G29J5SJbt1ALgIY9BpWBkLm2EMoeS9XfoQ3lUs5F6o5ARURDfoeusgSlhrToCXGtqlKd6hyRbLNBAhLw4rW-xN5ftkmt4aiBjDXFfvaUuSBgHvmtsb2mKswzAMfaJxfl31xMm6_aFLGEs9JGzwxymzYzF7imgh274TabFaaqev_lCdvzJEtNnKP5Qg--CGTm4uA9duVGzL17v13EYQmfPgFJSXfF6M_gF9WS5m_QRKbYgM0BMqxSE3Fj_rdMNRAMf360vncI-fzJFV9oBsisFCueGC91gTYUbL6iAEB-ldEtwyP6yWFIM17tRfTWAT2U3aWAb1Mpi8BeGnjdt0oiAMvG-7O6-7yVbJQp8TFCLOEjmtZKcE3uIZyrtvRQVZTqZsV9PGT3qYzS2T8vPhiKPIZ9Of0E3sKiNlsPQO1yAPBNIIGETkSaEW8wr42vxmTvIyPdaf5qIIcfMqjs04t1eYS_0koh-cS2UYL6imiBKX5cn6Kid3K_tZiW9b8DAQ1XKw.eyJraWQiOiJBUUlCQUhnTVJ1MlZyR2FFajR3bTc2dEZqMThGMUsyVFdZbkk4WXpxS0lRamg5YTZHZ0gvSnVWY1A0U2VtTi9YTC94bEFuZVNBQUFBb2pDQm53WUpLb1pJaHZjTkFRY0dvSUdSTUlHT0FnRUFNSUdJQmdrcWhraUc5dzBCQndFd0hnWUpZSVpJQVdVREJBRXVNQkVFREFQWlAwem5OVEQ5UnVEU3J3SUJFSUJieUpUdGJDOVpXOTNQNnBrTmllU0hJNkdxbS9vRGRYNkNNa1hxSXZ2UURJaDh1Z0UrS2pyeExidTZOTDYvS2FsUTlwcUsxMkVaOHFENUYyZDZTZGtrNnhkSlMxL0tlSEdDb0ZkVjVyR284eURBeFNiZzA3STFXWkhJU1E9PSJ9\">Link</a></td><td>None</td><td>✔</td></tr></table>"
      ],
      "text/plain": [
       "<IPython.core.display.HTML object>"
      ]
     },
     "metadata": {},
     "output_type": "display_data"
    },
    {
     "data": {
      "application/vnd.jupyter.widget-view+json": {
       "model_id": "70d322e994284155bc90a4bb537352aa",
       "version_major": 2,
       "version_minor": 0
      },
      "text/plain": [
       "FloatProgress(value=0.0, bar_style='info', description='Progress:', layout=Layout(height='25px', width='50%'),…"
      ]
     },
     "metadata": {},
     "output_type": "display_data"
    },
    {
     "name": "stdout",
     "output_type": "stream",
     "text": [
      "SparkSession available as 'spark'.\n"
     ]
    }
   ],
   "source": [
    "%load_ext sagemaker_studio_analytics_extension.magics\n",
    "%sm_analytics emr-serverless connect --application-id 00fra2001bfrlm09 --language python --emr-execution-role-arn arn:aws:iam::597161074694:role/service-role/AmazonEMR-ServiceRole-20250211T131858"
   ]
  },
  {
   "cell_type": "code",
   "execution_count": 3,
   "id": "c4d6dda3-922e-4a43-bd46-44fc1f95060a",
   "metadata": {},
   "outputs": [
    {
     "name": "stderr",
     "output_type": "stream",
     "text": [
      "Setting default log level to \"WARN\".\n",
      "To adjust logging level use sc.setLogLevel(newLevel). For SparkR, use setLogLevel(newLevel).\n",
      "25/03/28 22:54:46 WARN NativeCodeLoader: Unable to load native-hadoop library for your platform... using builtin-java classes where applicable\n"
     ]
    }
   ],
   "source": [
    "# connecting to the spark session\n",
    "spark = SparkSession.builder \\\n",
    "    .master('local[*]') \\\n",
    "    .config(\"spark.driver.memory\", \"5g\") \\\n",
    "    .appName('spark') \\\n",
    "    .getOrCreate()"
   ]
  },
  {
   "cell_type": "markdown",
   "id": "969a931d-75ee-47a5-b493-b699924dde3b",
   "metadata": {},
   "source": [
    "# Statistical Metrics"
   ]
  },
  {
   "cell_type": "markdown",
   "id": "76440b2b-338d-4c36-970a-a24e86d3ca5b",
   "metadata": {},
   "source": [
    "## Loading the Data"
   ]
  },
  {
   "cell_type": "code",
   "execution_count": 4,
   "id": "7035db01-cc5e-4af1-975b-81b60cf42655",
   "metadata": {},
   "outputs": [
    {
     "data": {
      "application/vnd.jupyter.widget-view+json": {
       "model_id": "aa096f0149094c9ab143e09a826539b0",
       "version_major": 2,
       "version_minor": 0
      },
      "text/plain": [
       "README.md:   0%|          | 0.00/554 [00:00<?, ?B/s]"
      ]
     },
     "metadata": {},
     "output_type": "display_data"
    },
    {
     "data": {
      "application/vnd.jupyter.widget-view+json": {
       "model_id": "54a08810d6b144c399a424e9607be79f",
       "version_major": 2,
       "version_minor": 0
      },
      "text/plain": [
       "(…)-00000-of-00008-c63ccd5d5290f4a1.parquet:   0%|          | 0.00/194M [00:00<?, ?B/s]"
      ]
     },
     "metadata": {},
     "output_type": "display_data"
    },
    {
     "data": {
      "application/vnd.jupyter.widget-view+json": {
       "model_id": "5af5f328dfe94135b25f9519c2bb261c",
       "version_major": 2,
       "version_minor": 0
      },
      "text/plain": [
       "(…)-00001-of-00008-478199d8ac044910.parquet:   0%|          | 0.00/194M [00:00<?, ?B/s]"
      ]
     },
     "metadata": {},
     "output_type": "display_data"
    },
    {
     "data": {
      "application/vnd.jupyter.widget-view+json": {
       "model_id": "833a2e86a52e4568b0824a1171c49e69",
       "version_major": 2,
       "version_minor": 0
      },
      "text/plain": [
       "(…)-00002-of-00008-9b868f59be94d815.parquet:   0%|          | 0.00/194M [00:00<?, ?B/s]"
      ]
     },
     "metadata": {},
     "output_type": "display_data"
    },
    {
     "data": {
      "application/vnd.jupyter.widget-view+json": {
       "model_id": "9580eebce8654c8e87a2af505bbbe0f3",
       "version_major": 2,
       "version_minor": 0
      },
      "text/plain": [
       "(…)-00003-of-00008-d183cca02834cd90.parquet:   0%|          | 0.00/194M [00:00<?, ?B/s]"
      ]
     },
     "metadata": {},
     "output_type": "display_data"
    },
    {
     "data": {
      "application/vnd.jupyter.widget-view+json": {
       "model_id": "d56bb4b8e9d84d11a5061c86da5ab7b3",
       "version_major": 2,
       "version_minor": 0
      },
      "text/plain": [
       "(…)-00004-of-00008-5f8ac0bb66de5834.parquet:   0%|          | 0.00/194M [00:00<?, ?B/s]"
      ]
     },
     "metadata": {},
     "output_type": "display_data"
    },
    {
     "data": {
      "application/vnd.jupyter.widget-view+json": {
       "model_id": "2d6db139619442ce8fa2e240f62f9ae3",
       "version_major": 2,
       "version_minor": 0
      },
      "text/plain": [
       "(…)-00005-of-00008-e8c22c3e776b87dd.parquet:   0%|          | 0.00/194M [00:00<?, ?B/s]"
      ]
     },
     "metadata": {},
     "output_type": "display_data"
    },
    {
     "data": {
      "application/vnd.jupyter.widget-view+json": {
       "model_id": "90d1ca0cb356461a92114dbb4cbdb0fb",
       "version_major": 2,
       "version_minor": 0
      },
      "text/plain": [
       "(…)-00006-of-00008-941f57106aca3340.parquet:   0%|          | 0.00/194M [00:00<?, ?B/s]"
      ]
     },
     "metadata": {},
     "output_type": "display_data"
    },
    {
     "data": {
      "application/vnd.jupyter.widget-view+json": {
       "model_id": "cbde7df920224fa1ac008ac13b1fdb76",
       "version_major": 2,
       "version_minor": 0
      },
      "text/plain": [
       "(…)-00007-of-00008-771d8aa2d5ce5c95.parquet:   0%|          | 0.00/194M [00:00<?, ?B/s]"
      ]
     },
     "metadata": {},
     "output_type": "display_data"
    },
    {
     "data": {
      "application/vnd.jupyter.widget-view+json": {
       "model_id": "b328fcf0f8c84476950530af08d0aad9",
       "version_major": 2,
       "version_minor": 0
      },
      "text/plain": [
       "Generating train split:   0%|          | 0/2745100 [00:00<?, ? examples/s]"
      ]
     },
     "metadata": {},
     "output_type": "display_data"
    }
   ],
   "source": [
    "data = load_dataset(\"skeskinen/TinyStories-GPT4\")"
   ]
  },
  {
   "cell_type": "code",
   "execution_count": null,
   "id": "9120ad9e-80ea-449b-9132-8cfc2ff045a6",
   "metadata": {},
   "outputs": [],
   "source": [
    "train = spark.createDataFrame(data['train'])\n",
    "val = spark.createDataFrame(val)"
   ]
  },
  {
   "cell_type": "markdown",
   "id": "222ecc21-098d-496b-80bb-eca1404a95c0",
   "metadata": {},
   "source": [
    "## Literacy\n",
    "WonderWords' literacy goals may be defined in objective terms by classifying whether the responses are at a lower or a higher reading level. As our application is targeting a youth demographic, utilizing the categorization system used in most libraries and school systems will help illustrate whether the training data is biased towards a specific set of reading levels."
   ]
  },
  {
   "cell_type": "code",
   "execution_count": null,
   "id": "d6f0f55c-5f6d-4973-876d-b43d1a977a9e",
   "metadata": {},
   "outputs": [],
   "source": []
  },
  {
   "cell_type": "markdown",
   "id": "6df75014-1d5f-4484-8ecc-7dbd649859c6",
   "metadata": {},
   "source": [
    "## Mental Health\n",
    "As for mental-health, goals may be defined in objective terms by classifying the emotions, subjects, topics, genres, or any commonly used keywords related to mental-health within the data."
   ]
  },
  {
   "cell_type": "code",
   "execution_count": null,
   "id": "d6d20150-8f57-48f4-9344-0c321ab5de27",
   "metadata": {},
   "outputs": [],
   "source": []
  },
  {
   "cell_type": "markdown",
   "id": "3fd998ba-ff46-4b64-8e2b-ee6204b0f96c",
   "metadata": {},
   "source": [
    "## Creativity\n",
    "Objectively speaking, creativity is a hard goal to define as it can be objectively defined in a multitude of way, as are the aforementioned topics of literacy and mental-health. However, many people might agree that creativity is somehow unique. Therefore, it may be possible to define the goal of creativity by understanding the level of variance in the models responses to similar prompts. "
   ]
  },
  {
   "cell_type": "markdown",
   "id": "aefb81cf-68dc-4308-bb0b-0a0458b37be1",
   "metadata": {},
   "source": [
    "# Statistical Analysis"
   ]
  },
  {
   "cell_type": "markdown",
   "id": "9789a675-1455-461c-b5d9-c783e6b0c7c8",
   "metadata": {},
   "source": [
    "## Literacy Analysis"
   ]
  },
  {
   "cell_type": "code",
   "execution_count": null,
   "id": "24d6c85e-b99d-4ff3-9be2-c9bc02a020dd",
   "metadata": {},
   "outputs": [],
   "source": []
  },
  {
   "cell_type": "markdown",
   "id": "6807b95c-f612-4cd4-8d4a-efc8b2f12962",
   "metadata": {},
   "source": [
    "## Mental Health"
   ]
  },
  {
   "cell_type": "code",
   "execution_count": null,
   "id": "ad8cad3c-88a6-4591-9600-a2bbc899f490",
   "metadata": {},
   "outputs": [],
   "source": []
  },
  {
   "cell_type": "markdown",
   "id": "d33ce727-9f78-4d50-81f5-f7825acbcdc9",
   "metadata": {},
   "source": [
    "## Creativity"
   ]
  },
  {
   "cell_type": "code",
   "execution_count": null,
   "id": "dd172f7b-6208-4017-adad-c53ceb4909fb",
   "metadata": {},
   "outputs": [],
   "source": []
  }
 ],
 "metadata": {
  "kernelspec": {
   "display_name": "Python 3 (ipykernel)",
   "language": "python",
   "name": "python3"
  },
  "language_info": {
   "codemirror_mode": {
    "name": "ipython",
    "version": 3
   },
   "file_extension": ".py",
   "mimetype": "text/x-python",
   "name": "python",
   "nbconvert_exporter": "python",
   "pygments_lexer": "ipython3",
   "version": "3.11.11"
  }
 },
 "nbformat": 4,
 "nbformat_minor": 5
}
