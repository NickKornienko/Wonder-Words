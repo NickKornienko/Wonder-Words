{
 "cells": [
  {
   "cell_type": "code",
   "execution_count": null,
   "id": "a73161ea-36df-4e7e-add0-b6d3083ac540",
   "metadata": {},
   "outputs": [],
   "source": [
    "import pandas as pd\n",
    "import numpy as np\n",
    "import datasets"
   ]
  },
  {
   "cell_type": "code",
   "execution_count": null,
   "id": "f11aa0d7-f1dc-490f-ad69-d2b16a3fdd3b",
   "metadata": {},
   "outputs": [],
   "source": [
    "from datasets import load_dataset"
   ]
  },
  {
   "cell_type": "markdown",
   "id": "e04f7b11-a400-4500-b473-72b7093c0f09",
   "metadata": {},
   "source": [
    "# ETL of Large Source Dataset\n",
    "Before uploading the dataset into a database and dataloading pipeline, the data has to be converted into I.I.E (independent and identifiable data) form by including a unique I.D and timestamp for each row. The data will also be split into its' train and validation subsets."
   ]
  },
  {
   "cell_type": "code",
   "execution_count": 25,
   "id": "ee3aec78-65c0-43d4-ab99-031f28bac78c",
   "metadata": {
    "kernelspec": {
     "display_name": "Python 3 (ipykernel)",
     "language": "python",
     "name": "python3"
    },
    "language_info": {
     "codemirror_mode": {
      "name": "ipython",
      "version": 3
     },
     "file_extension": ".py",
     "mimetype": "text/x-python",
     "name": "python",
     "nbconvert_exporter": "python",
     "pygments_lexer": "ipython3",
     "version": "3.11.11"
    }
   },
   "outputs": [
    {
     "name": "stdout",
     "output_type": "stream",
     "text": [
      "The sagemaker_studio_analytics_extension.magics extension is already loaded. To reload it, use:\n",
      "  %reload_ext sagemaker_studio_analytics_extension.magics\n",
      "Initiating EMR Serverless connection..\n",
      "The sparkmagic.magics extension is already loaded. To reload it, use:\n",
      "  %reload_ext sparkmagic.magics\n"
     ]
    },
    {
     "name": "stderr",
     "output_type": "stream",
     "text": [
      "An error was encountered:\n",
      "Invalid status code '400' from https://00fq6j1a0fiulq09.livy.emr-serverless-services.us-east-1.amazonaws.com/sessions with error payload: {\"msg\":\"Could not assume runtime role arn:aws:iam::597161074694:role/service-role/AmazonEMR-ServiceRole-20250211T131858 because it doesn't exist or isn't setup with the required trust relationship.\"}\n"
     ]
    }
   ],
   "source": [
    "%load_ext sagemaker_studio_analytics_extension.magics\n",
    "%sm_analytics emr-serverless connect --application-id 00fq6j1a0fiulq09 --language python --emr-execution-role-arn arn:aws:iam::597161074694:role/service-role/AmazonEMR-ServiceRole-20250211T131858"
   ]
  },
  {
   "cell_type": "code",
   "execution_count": null,
   "id": "6043e0ef-1539-4bf2-8f25-087e3ed78692",
   "metadata": {},
   "outputs": [],
   "source": [
    "tinystories = \"skeskinen/TinyStories-GPT4\"\n",
    "train_data = load_dataset(tinystories, split=\"train[:2200000]\").shuffle()\n",
    "val_data = load_dataset(tinystories, split=\"train[2200000:]\").shuffle()"
   ]
  },
  {
   "cell_type": "code",
   "execution_count": null,
   "id": "32587d3f-f9a3-4ab1-92cb-5612e7ba9ff5",
   "metadata": {},
   "outputs": [],
   "source": [
    "train_data"
   ]
  },
  {
   "cell_type": "code",
   "execution_count": null,
   "id": "6132d130-683a-4135-9e35-93e11d0a2a7a",
   "metadata": {},
   "outputs": [],
   "source": [
    "val_data"
   ]
  },
  {
   "cell_type": "code",
   "execution_count": null,
   "id": "3cccbcd9-9fc1-463d-84d9-707d2eb6e3cc",
   "metadata": {
    "scrolled": true
   },
   "outputs": [],
   "source": [
    "# vectorized pandas df\n",
    "train_df = pd.DataFrame(train_data)\n",
    "val_df = pd.DataFrame(val_data)\n",
    "\n",
    "# columns added to train and val\n",
    "train_df['unique_id'] = range(len(train_df))  # Unique IDs\n",
    "train_df['timestamp'] = pd.to_datetime('now')  # Current timestamp\n",
    "\n",
    "val_df['unique_id'] = range(len(val_df))  # Unique IDs\n",
    "val_df['timestamp'] = pd.to_datetime('now')  # Current timestamp"
   ]
  },
  {
   "cell_type": "code",
   "execution_count": null,
   "id": "2718326e-59a8-4829-a7bd-028e8bdd6ac6",
   "metadata": {},
   "outputs": [],
   "source": []
  }
 ],
 "metadata": {
  "kernelspec": {
   "display_name": "Python 3 (ipykernel)",
   "language": "python",
   "name": "python3"
  },
  "language_info": {
   "codemirror_mode": {
    "name": "ipython",
    "version": 3
   },
   "file_extension": ".py",
   "mimetype": "text/x-python",
   "name": "python",
   "nbconvert_exporter": "python",
   "pygments_lexer": "ipython3",
   "version": "3.11.11"
  }
 },
 "nbformat": 4,
 "nbformat_minor": 5
}
