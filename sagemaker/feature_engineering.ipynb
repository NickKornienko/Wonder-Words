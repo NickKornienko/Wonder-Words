{
 "cells": [
  {
   "cell_type": "code",
   "execution_count": 1,
   "id": "6a600ccf-4dc0-48d1-b5a7-4025bb6e4c2d",
   "metadata": {},
   "outputs": [],
   "source": [
    "from pyspark.sql import SparkSession\n",
    "from pyspark.sql.functions import monotonically_increasing_id, current_timestamp\n",
    "from datasets import load_dataset, Dataset, DatasetDict\n",
    "import huggingface_hub"
   ]
  },
  {
   "cell_type": "markdown",
   "id": "e04f7b11-a400-4500-b473-72b7093c0f09",
   "metadata": {},
   "source": [
    "# ETL of Large Source Dataset\n",
    "Before uploading the dataset into a database and dataloading pipeline, the data has to be converted into I.I.E (independent and identifiable data) form by including a unique I.D and timestamp for each row. The data will also be split into its' train and validation subsets."
   ]
  },
  {
   "cell_type": "code",
   "execution_count": 2,
   "id": "ee3aec78-65c0-43d4-ab99-031f28bac78c",
   "metadata": {
    "kernelspec": {
     "display_name": "Python 3 (ipykernel)",
     "language": "python",
     "name": "python3"
    },
    "language_info": {
     "codemirror_mode": {
      "name": "ipython",
      "version": 3
     },
     "file_extension": ".py",
     "mimetype": "text/x-python",
     "name": "python",
     "nbconvert_exporter": "python",
     "pygments_lexer": "ipython3",
     "version": "3.11.11"
    }
   },
   "outputs": [
    {
     "name": "stdout",
     "output_type": "stream",
     "text": [
      "Initiating EMR Serverless connection..\n",
      "Starting Spark application\n"
     ]
    },
    {
     "data": {
      "text/html": [
       "<table>\n",
       "<tr><th>ID</th><th>YARN Application ID</th><th>Kind</th><th>State</th><th>Spark UI</th><th>Driver log</th><th>User</th><th>Current session?</th></tr><tr><td>4</td><td>00fq7iq3kcnggh0a</td><td>pyspark</td><td>idle</td><td><a target=\"_blank\" href=\"https://j-00fq7iq3kcnggh0a.dashboard.emr-serverless.us-east-1.amazonaws.com/?authToken=eDAxNeMkXT8eZ7x_kfUit704ubdordAcXsxaYH5DWW6qQP_gh2HCZukVakYcY2laZFsGJacv1RwHMhFofoCsf35TBUc91c5J-p-62X1t_7xYJsStT8H6q13eBEqe_LpeNZ_VSt_lwdWm0mq_O5B0PovyP0ArkK4FSoxCwH6GWkPSctuSkat2WVBwLwyVwSfByUMFBBaRGpKUtnG8ldLi59h1nkq9MmwKFCT6uObr0zZsyyzpbDoDBVadoLmfDy5lIzAMnBhLBSdu_Ib9zl4qbwLYRXoHH2maJd6xf5kj9EyS0ml7gTeVTW2BESTAGYDIqRMnXZQw3hkHwYVpJv7LCDHJfhF0GPQgFy5Rr-HjinY6j3C9ItnP8v_1YhMo-jIPp0sLwW9JATy-aWRdp7rI3lFJjbOZACisXEskO4CX5lCBnZm8uiQsmXwS5o9N_4MyEbK_ZP9y-wmzPmcCWi3wt8D8NGVA-wkskAfgTzJ56p5TxKponQAavd9boHHvkBmIklFSbgWicbXfLgj6dhHEkY6ElV4baZpbglRjXI7d52RvtfmYtzF5GHM9JLeB0GTDK9rRNQCzE2k-7yzzcHnHKANheZYrAYXBg6_ZZhm3K-HgpG7TCxTkE1vnjcWbSQAQdIrHWS-_PgmD2uj3E6673vqtzNQqfZEXWiyHWWOzJ9dm-D3s2xcnWvPjNqwFmgrK6Y5FR8i-RJ9r2OzxK1dXvXpcu1Kf4kAVOopzewREK6x9leuMBa0SQ6IFN7XT8YLdkbayqozK9vCZW2zpR6Y_su0Gnv1fFfHNVFFoiCGztL6rtEk7FV3WadtEAeQe4384Hhj-MfsTJRFZzsxwQ4FUauftWk0-sWRD0op8yfBTBr9v9tnFjKkCw3KMGY9VVLuQM3SqdPbO250szrvvx4EaMMI7psL2eQf33YI-5BrgpRtT4Q.eyJraWQiOiJBUUlCQUhnTVJ1MlZyR2FFajR3bTc2dEZqMThGMUsyVFdZbkk4WXpxS0lRamg5YTZHZ0c0bVlPSndFSzZUMEtDK1RiUzB0Z3ZBQUFBb2pDQm53WUpLb1pJaHZjTkFRY0dvSUdSTUlHT0FnRUFNSUdJQmdrcWhraUc5dzBCQndFd0hnWUpZSVpJQVdVREJBRXVNQkVFREtySGF0U1duOG10NVp0dlVRSUJFSUJiUVlQenRJSzdBMnNlaXVsaGEvejFoeExPSVA4QkFjb1FoSUVkNlQ2WWFoS0cxQlp6WUlUTlZ1eGdUMnZEQTd4eTFHNDEvSHNTcG9kUnpUNEpQQm5aN0tsU2dBa1UwTjBOR2Fsd2VtbkRKY3RKRlZna3lnbnp1N3dxZ3c9PSJ9\">Link</a></td><td><a target=\"_blank\" href=\"https://j-00fq7iq3kcnggh0a.dashboard.emr-serverless.us-east-1.amazonaws.com/logs/SPARK_DRIVER/stderr.gz?authToken=eDAx7n3D9ZotoCSTZzEchGHm8t8f6WBR3sKrowSqjvpyb1qTprCHTl_Vhr0jQn8weyfKydHFLxpIbXsBXVC8p8CbHSv3GwuCSMJtqATet0tPTkQxb4uJ3U_FvE1pV8-sdmkwb9ocQ7u4YewIS_5rM8Rn3EmQxcwc9yWzOj2U_1sOCve8PIMHi6JVDpi10nmgWmYoZ5hznj9k_mtK4DoDtDLLVqbD-bHJxGNPYthvjRoOW5zhXdPPEgNtzw9mn74z7ia3L0AgvJm91bavVu1vZadfyG9Wrjls0JE_SoP-poXH82x62oVY9QhLEVLb7KZr_8V1NsmI_FfEj-Jdl3LYg-ThzkUT6e4wqeNmwJxy8CKAFWKcYWP8VvDrtUBfb8LLkOBQzfCeb1bHy0UnDh3oZty14oU_6AU_vblFLaPat4DlhW704YhrpaE2SYXGncJgoB_whyLZ44q_bgt4F4GTohvMtFD1Vq3zBDJ63aTKnUlTtwbs5GHXC7n2dd54b-sOd_bYtcUMMjqsAPQw1-1VOQW9QB9wizZXTDTvJNRDerMGTifF9ZmlbET91N6iVbn3mm8VHcKP6VI8Xm_8sL-zXSKMVTvTMdl6OVQ4ll8Z_7OQgp6akkNaMSFXq6DGf_YjHzOp4OGCTWD_CoV4OahxIQLvy9UzIuXxiWncjHefIBFxV8ymi9Ag1cKlMwGF2i8iZ7Jb0vWIjKU41sk0bAmuN8xt77lcUojMkDKX5b-CjyPtJ44vQapioO-7cRDAIglCQ1qAdsnemMheutNYqjsALkEXkVvDbK8CPbsR8Knj60VJTOoWOcS8fnR59iejz4k9RPKl_agjRVjA9byswPrKLo1jk663M1gFXDLzadgejpqWp9-Oze_cKcFUoVxQ-cuIOJOasya66luF1AVqpqGaUClnDgmXxRPbZAYWwFSQ-CkKTg.eyJraWQiOiJBUUlCQUhnTVJ1MlZyR2FFajR3bTc2dEZqMThGMUsyVFdZbkk4WXpxS0lRamg5YTZHZ0c0bVlPSndFSzZUMEtDK1RiUzB0Z3ZBQUFBb2pDQm53WUpLb1pJaHZjTkFRY0dvSUdSTUlHT0FnRUFNSUdJQmdrcWhraUc5dzBCQndFd0hnWUpZSVpJQVdVREJBRXVNQkVFREtySGF0U1duOG10NVp0dlVRSUJFSUJiUVlQenRJSzdBMnNlaXVsaGEvejFoeExPSVA4QkFjb1FoSUVkNlQ2WWFoS0cxQlp6WUlUTlZ1eGdUMnZEQTd4eTFHNDEvSHNTcG9kUnpUNEpQQm5aN0tsU2dBa1UwTjBOR2Fsd2VtbkRKY3RKRlZna3lnbnp1N3dxZ3c9PSJ9\">Link</a></td><td>None</td><td>✔</td></tr></table>"
      ],
      "text/plain": [
       "<IPython.core.display.HTML object>"
      ]
     },
     "metadata": {},
     "output_type": "display_data"
    },
    {
     "data": {
      "application/vnd.jupyter.widget-view+json": {
       "model_id": "",
       "version_major": 2,
       "version_minor": 0
      },
      "text/plain": [
       "FloatProgress(value=0.0, bar_style='info', description='Progress:', layout=Layout(height='25px', width='50%'),…"
      ]
     },
     "metadata": {},
     "output_type": "display_data"
    },
    {
     "name": "stdout",
     "output_type": "stream",
     "text": [
      "SparkSession available as 'spark'.\n"
     ]
    }
   ],
   "source": [
    "%load_ext sagemaker_studio_analytics_extension.magics\n",
    "%sm_analytics emr-serverless connect --application-id 00fq6j1a0fiulq09 --language python --emr-execution-role-arn arn:aws:iam::597161074694:role/service-role/AmazonEMR-ServiceRole-20250211T131858"
   ]
  },
  {
   "cell_type": "code",
   "execution_count": 3,
   "id": "b86245a5-15df-4d96-ac26-f29deed5e04c",
   "metadata": {},
   "outputs": [
    {
     "name": "stderr",
     "output_type": "stream",
     "text": [
      "Setting default log level to \"WARN\".\n",
      "To adjust logging level use sc.setLogLevel(newLevel). For SparkR, use setLogLevel(newLevel).\n",
      "25/02/13 03:32:49 WARN NativeCodeLoader: Unable to load native-hadoop library for your platform... using builtin-java classes where applicable\n"
     ]
    }
   ],
   "source": [
    "spark = SparkSession.builder \\\n",
    "    .master('local[*]') \\\n",
    "    .config(\"spark.driver.memory\", \"50g\") \\\n",
    "    .appName('spark') \\\n",
    "    .getOrCreate()"
   ]
  },
  {
   "cell_type": "code",
   "execution_count": 4,
   "id": "6043e0ef-1539-4bf2-8f25-087e3ed78692",
   "metadata": {},
   "outputs": [],
   "source": [
    "tinystories = \"skeskinen/TinyStories-GPT4\"\n",
    "train_data = load_dataset(tinystories, split=\"train[:2196080]\")\n",
    "val_data = load_dataset(tinystories, split=\"train[2196080:]\")"
   ]
  },
  {
   "cell_type": "code",
   "execution_count": 7,
   "id": "32587d3f-f9a3-4ab1-92cb-5612e7ba9ff5",
   "metadata": {},
   "outputs": [
    {
     "data": {
      "text/plain": [
       "Dataset({\n",
       "    features: ['story', 'summary', 'source', 'prompt', 'words', 'features'],\n",
       "    num_rows: 2196080\n",
       "})"
      ]
     },
     "execution_count": 7,
     "metadata": {},
     "output_type": "execute_result"
    }
   ],
   "source": [
    "train_data"
   ]
  },
  {
   "cell_type": "code",
   "execution_count": 8,
   "id": "2debb412-cb55-4569-9d45-d7aaf6841404",
   "metadata": {},
   "outputs": [
    {
     "data": {
      "text/plain": [
       "Dataset({\n",
       "    features: ['story', 'summary', 'source', 'prompt', 'words', 'features'],\n",
       "    num_rows: 549020\n",
       "})"
      ]
     },
     "execution_count": 8,
     "metadata": {},
     "output_type": "execute_result"
    }
   ],
   "source": [
    "val_data"
   ]
  },
  {
   "cell_type": "code",
   "execution_count": 9,
   "id": "2718326e-59a8-4829-a7bd-028e8bdd6ac6",
   "metadata": {},
   "outputs": [],
   "source": [
    "train_data = spark.createDataFrame(train_data)"
   ]
  },
  {
   "cell_type": "code",
   "execution_count": 10,
   "id": "e9f28f9c-bb39-4edb-b7b3-b37b34d9d304",
   "metadata": {},
   "outputs": [],
   "source": [
    "val_data = spark.createDataFrame(val_data)"
   ]
  },
  {
   "cell_type": "code",
   "execution_count": 11,
   "id": "b096a0e5-382a-4348-9eca-b84fa6c89c44",
   "metadata": {},
   "outputs": [],
   "source": [
    "# Add columns with PySpark UDFs\n",
    "train_data = train_data.withColumn(\"unique_id\", monotonically_increasing_id()) \n",
    "train_data = train_data.withColumn(\"timestamp\", current_timestamp())"
   ]
  },
  {
   "cell_type": "code",
   "execution_count": 12,
   "id": "0d68fa4f-0a74-46b9-9fc9-22d148bf8927",
   "metadata": {},
   "outputs": [],
   "source": [
    "# Add columns with PySpark UDFs\n",
    "val_data = val_data.withColumn(\"unique_id\", monotonically_increasing_id()) \n",
    "val_data = val_data.withColumn(\"timestamp\", current_timestamp())"
   ]
  },
  {
   "cell_type": "code",
   "execution_count": 13,
   "id": "3f6a9514-25f9-4ff3-92e0-41018ef70d41",
   "metadata": {},
   "outputs": [
    {
     "name": "stderr",
     "output_type": "stream",
     "text": [
      "25/02/13 03:38:24 WARN TaskSetManager: Stage 0 contains a task of very large size (359110 KiB). The maximum recommended task size is 1000 KiB.\n",
      "25/02/13 03:38:38 WARN TaskSetManager: Stage 3 contains a task of very large size (359110 KiB). The maximum recommended task size is 1000 KiB.\n",
      "25/02/13 03:38:46 WARN PythonRunner: Detected deadlock while completing task 4.0 in stage 3 (TID 13): Attempting to kill Python Worker\n",
      "25/02/13 03:38:46 WARN PythonRunner: Detected deadlock while completing task 7.0 in stage 3 (TID 16): Attempting to kill Python Worker\n",
      "25/02/13 03:38:46 WARN PythonRunner: Detected deadlock while completing task 2.0 in stage 3 (TID 11): Attempting to kill Python Worker\n",
      "25/02/13 03:38:46 WARN PythonRunner: Detected deadlock while completing task 3.0 in stage 3 (TID 12): Attempting to kill Python Worker\n",
      "25/02/13 03:38:46 WARN PythonRunner: Detected deadlock while completing task 5.0 in stage 3 (TID 14): Attempting to kill Python Worker\n",
      "25/02/13 03:38:46 WARN PythonRunner: Detected deadlock while completing task 6.0 in stage 3 (TID 15): Attempting to kill Python Worker\n",
      "25/02/13 03:38:46 WARN PythonRunner: Detected deadlock while completing task 1.0 in stage 3 (TID 10): Attempting to kill Python Worker\n",
      "25/02/13 03:38:46 WARN PythonRunner: Detected deadlock while completing task 0.0 in stage 3 (TID 9): Attempting to kill Python Worker\n",
      "25/02/13 03:38:49 WARN TaskSetManager: Stage 9 contains a task of very large size (359110 KiB). The maximum recommended task size is 1000 KiB.\n",
      "25/02/13 03:39:07 WARN TaskSetManager: Stage 16 contains a task of very large size (89818 KiB). The maximum recommended task size is 1000 KiB.\n",
      "25/02/13 03:39:09 WARN TaskSetManager: Stage 19 contains a task of very large size (89818 KiB). The maximum recommended task size is 1000 KiB.\n",
      "25/02/13 03:39:14 WARN PythonRunner: Detected deadlock while completing task 1.0 in stage 19 (TID 50): Attempting to kill Python Worker\n",
      "25/02/13 03:39:14 WARN PythonRunner: Detected deadlock while completing task 6.0 in stage 19 (TID 55): Attempting to kill Python Worker\n",
      "25/02/13 03:39:14 WARN PythonRunner: Detected deadlock while completing task 3.0 in stage 19 (TID 52): Attempting to kill Python Worker\n",
      "25/02/13 03:39:14 WARN PythonRunner: Detected deadlock while completing task 2.0 in stage 19 (TID 51): Attempting to kill Python Worker\n",
      "25/02/13 03:39:14 WARN PythonRunner: Detected deadlock while completing task 4.0 in stage 19 (TID 53): Attempting to kill Python Worker\n",
      "25/02/13 03:39:14 WARN PythonRunner: Detected deadlock while completing task 7.0 in stage 19 (TID 56): Attempting to kill Python Worker\n",
      "25/02/13 03:39:14 WARN PythonRunner: Detected deadlock while completing task 0.0 in stage 19 (TID 49): Attempting to kill Python Worker\n",
      "25/02/13 03:39:14 WARN PythonRunner: Detected deadlock while completing task 5.0 in stage 19 (TID 54): Attempting to kill Python Worker\n",
      "25/02/13 03:39:14 WARN TaskSetManager: Stage 25 contains a task of very large size (89818 KiB). The maximum recommended task size is 1000 KiB.\n",
      "                                                                                \r"
     ]
    }
   ],
   "source": [
    "#converting to huggingface dataset objects\n",
    "train_data = Dataset.from_spark(train_data)\n",
    "val_data = Dataset.from_spark(val_data)"
   ]
  },
  {
   "cell_type": "code",
   "execution_count": 14,
   "id": "65a14b74-012a-44e6-a810-1ba604f72f20",
   "metadata": {},
   "outputs": [],
   "source": [
    "df_splits = {'train': train_data, 'validation': val_data}"
   ]
  },
  {
   "cell_type": "code",
   "execution_count": 15,
   "id": "ce311fb3-4857-44e4-aee8-aa9532a2731d",
   "metadata": {},
   "outputs": [],
   "source": [
    "repo_id = 'Alexis-Az/TinyStories'"
   ]
  },
  {
   "cell_type": "code",
   "execution_count": 20,
   "id": "af34bf8b-19b4-48f7-85cd-c9d2b1cef4d5",
   "metadata": {},
   "outputs": [],
   "source": [
    "full_data = DatasetDict(df_splits)"
   ]
  },
  {
   "cell_type": "code",
   "execution_count": 21,
   "id": "8d0c8d7c-968c-4e14-baca-f787060b4df9",
   "metadata": {},
   "outputs": [
    {
     "data": {
      "application/vnd.jupyter.widget-view+json": {
       "model_id": "2a1a0341ac464807af69b06dbc50387b",
       "version_major": 2,
       "version_minor": 0
      },
      "text/plain": [
       "Uploading the dataset shards:   0%|          | 0/6 [00:00<?, ?it/s]"
      ]
     },
     "metadata": {},
     "output_type": "display_data"
    },
    {
     "data": {
      "application/vnd.jupyter.widget-view+json": {
       "model_id": "5902406a9f7b4e04ab614b5041574551",
       "version_major": 2,
       "version_minor": 0
      },
      "text/plain": [
       "Creating parquet from Arrow format:   0%|          | 0/367 [00:00<?, ?ba/s]"
      ]
     },
     "metadata": {},
     "output_type": "display_data"
    },
    {
     "data": {
      "application/vnd.jupyter.widget-view+json": {
       "model_id": "af708a30fa894d4eb1acf9389d03a604",
       "version_major": 2,
       "version_minor": 0
      },
      "text/plain": [
       "Creating parquet from Arrow format:   0%|          | 0/367 [00:00<?, ?ba/s]"
      ]
     },
     "metadata": {},
     "output_type": "display_data"
    },
    {
     "data": {
      "application/vnd.jupyter.widget-view+json": {
       "model_id": "e9e31c41eab44388987d701b5c6bb9a7",
       "version_major": 2,
       "version_minor": 0
      },
      "text/plain": [
       "Creating parquet from Arrow format:   0%|          | 0/367 [00:00<?, ?ba/s]"
      ]
     },
     "metadata": {},
     "output_type": "display_data"
    },
    {
     "data": {
      "application/vnd.jupyter.widget-view+json": {
       "model_id": "3b11b4ceb83a4e2eb086d424f38d66c2",
       "version_major": 2,
       "version_minor": 0
      },
      "text/plain": [
       "Creating parquet from Arrow format:   0%|          | 0/367 [00:00<?, ?ba/s]"
      ]
     },
     "metadata": {},
     "output_type": "display_data"
    },
    {
     "data": {
      "application/vnd.jupyter.widget-view+json": {
       "model_id": "7aacafe562f8486fad9c27fc409d590c",
       "version_major": 2,
       "version_minor": 0
      },
      "text/plain": [
       "Creating parquet from Arrow format:   0%|          | 0/367 [00:00<?, ?ba/s]"
      ]
     },
     "metadata": {},
     "output_type": "display_data"
    },
    {
     "data": {
      "application/vnd.jupyter.widget-view+json": {
       "model_id": "1de0301e59c743dd9399360a9694bde2",
       "version_major": 2,
       "version_minor": 0
      },
      "text/plain": [
       "Creating parquet from Arrow format:   0%|          | 0/367 [00:00<?, ?ba/s]"
      ]
     },
     "metadata": {},
     "output_type": "display_data"
    },
    {
     "data": {
      "application/vnd.jupyter.widget-view+json": {
       "model_id": "5c2296f1014847cda8d6619718ca32da",
       "version_major": 2,
       "version_minor": 0
      },
      "text/plain": [
       "Uploading the dataset shards:   0%|          | 0/2 [00:00<?, ?it/s]"
      ]
     },
     "metadata": {},
     "output_type": "display_data"
    },
    {
     "data": {
      "application/vnd.jupyter.widget-view+json": {
       "model_id": "90dc36d5a5ea48a4bd9fe0fd6c1bad55",
       "version_major": 2,
       "version_minor": 0
      },
      "text/plain": [
       "Creating parquet from Arrow format:   0%|          | 0/275 [00:00<?, ?ba/s]"
      ]
     },
     "metadata": {},
     "output_type": "display_data"
    },
    {
     "data": {
      "application/vnd.jupyter.widget-view+json": {
       "model_id": "38493e67f3fc4a5cb5c3b23eb5007c4b",
       "version_major": 2,
       "version_minor": 0
      },
      "text/plain": [
       "Creating parquet from Arrow format:   0%|          | 0/275 [00:00<?, ?ba/s]"
      ]
     },
     "metadata": {},
     "output_type": "display_data"
    },
    {
     "data": {
      "text/plain": [
       "CommitInfo(commit_url='https://huggingface.co/datasets/Alexis-Az/TinyStories/commit/e82c94c97f93463692798284495ba7b41fa2973d', commit_message='Upload dataset', commit_description='', oid='e82c94c97f93463692798284495ba7b41fa2973d', pr_url=None, repo_url=RepoUrl('https://huggingface.co/datasets/Alexis-Az/TinyStories', endpoint='https://huggingface.co', repo_type='dataset', repo_id='Alexis-Az/TinyStories'), pr_revision=None, pr_num=None)"
      ]
     },
     "execution_count": 21,
     "metadata": {},
     "output_type": "execute_result"
    }
   ],
   "source": [
    "full_data.push_to_hub(repo_id=repo_id)"
   ]
  }
 ],
 "metadata": {
  "kernelspec": {
   "display_name": "Python 3 (ipykernel)",
   "language": "python",
   "name": "python3"
  },
  "language_info": {
   "codemirror_mode": {
    "name": "ipython",
    "version": 3
   },
   "file_extension": ".py",
   "mimetype": "text/x-python",
   "name": "python",
   "nbconvert_exporter": "python",
   "pygments_lexer": "ipython3",
   "version": "3.11.11"
  }
 },
 "nbformat": 4,
 "nbformat_minor": 5
}
