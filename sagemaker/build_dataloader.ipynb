{
 "cells": [
  {
   "cell_type": "code",
   "execution_count": 1,
   "id": "53000991-ffa1-4a36-9b76-40200eb98e51",
   "metadata": {},
   "outputs": [
    {
     "name": "stdout",
     "output_type": "stream",
     "text": [
      "sagemaker.config INFO - Not applying SDK defaults from location: /etc/xdg/sagemaker/config.yaml\n",
      "sagemaker.config INFO - Not applying SDK defaults from location: /home/sagemaker-user/.config/sagemaker/config.yaml\n"
     ]
    }
   ],
   "source": [
    "import boto3\n",
    "import sagemaker\n",
    "from sagemaker.feature_store.feature_group import FeatureGroup"
   ]
  },
  {
   "cell_type": "code",
   "execution_count": 2,
   "id": "a4d8ebe1-21f2-48b1-9323-38e20c4b2fd4",
   "metadata": {},
   "outputs": [],
   "source": [
    "import os\n",
    "import s3fs\n",
    "from datasets import load_dataset, load_dataset_builder\n",
    "import pandas as pd\n",
    "import re"
   ]
  },
  {
   "cell_type": "code",
   "execution_count": 3,
   "id": "6ec33a44-5935-4652-a021-83222c58003c",
   "metadata": {},
   "outputs": [
    {
     "name": "stdout",
     "output_type": "stream",
     "text": [
      "597161074694\n"
     ]
    }
   ],
   "source": [
    "account_id = boto3.client(\"sts\").get_caller_identity()[\"Account\"]\n",
    "print(account_id)"
   ]
  },
  {
   "cell_type": "markdown",
   "id": "efb1b1c5-735c-4165-8113-e96878f505e0",
   "metadata": {},
   "source": [
    "## Instantiating Sagemaker Feature Group / Database Object"
   ]
  },
  {
   "cell_type": "code",
   "execution_count": 4,
   "id": "a96461cc-7ee1-4081-aaa1-5272e9c4f776",
   "metadata": {},
   "outputs": [],
   "source": [
    "from sagemaker.session import Session\n",
    "\n",
    "region = boto3.Session().region_name\n",
    "\n",
    "boto_session = boto3.Session(region_name=region)\n",
    "\n",
    "sagemaker_client = boto_session.client(service_name=\"sagemaker\", region_name=region)\n",
    "featurestore_runtime = boto_session.client(\n",
    "    service_name=\"sagemaker-featurestore-runtime\", region_name=region\n",
    ")"
   ]
  },
  {
   "cell_type": "code",
   "execution_count": 5,
   "id": "522b7b43-1cc8-4705-9595-c1afe9244304",
   "metadata": {},
   "outputs": [],
   "source": [
    "feature_store_session = Session(\n",
    "    boto_session=boto_session,\n",
    "    sagemaker_client=sagemaker_client,\n",
    "    sagemaker_featurestore_runtime_client=featurestore_runtime,\n",
    ")"
   ]
  },
  {
   "cell_type": "code",
   "execution_count": 6,
   "id": "fa199470-46d8-4c7f-b056-40bf04ee7f49",
   "metadata": {},
   "outputs": [],
   "source": [
    "default_s3_bucket_name = feature_store_session.default_bucket()\n",
    "prefix = \"tinystories\""
   ]
  },
  {
   "cell_type": "code",
   "execution_count": 7,
   "id": "e7721ce1-0cd5-436c-ab61-fad0d54ac4b9",
   "metadata": {},
   "outputs": [],
   "source": [
    "train_fg = 'tinystories-train'\n",
    "val_fg = 'tinystories-val'"
   ]
  },
  {
   "cell_type": "code",
   "execution_count": 8,
   "id": "a582bcd4-3c42-4504-8ead-20f1facdc3f3",
   "metadata": {},
   "outputs": [],
   "source": [
    "train_feature_group = FeatureGroup(\n",
    "    name=train_fg, sagemaker_session=feature_store_session\n",
    ")\n",
    "val_feature_group = FeatureGroup(\n",
    "    name=val_fg, sagemaker_session=feature_store_session\n",
    ")"
   ]
  },
  {
   "cell_type": "markdown",
   "id": "f159e1ea-3ec5-4449-8534-8442883c5baa",
   "metadata": {},
   "source": [
    "## Preparing the Data from HuggingFace"
   ]
  },
  {
   "cell_type": "code",
   "execution_count": 9,
   "id": "2bab6df4-cb34-449c-ac5b-e09493d447eb",
   "metadata": {},
   "outputs": [],
   "source": [
    "hf_repo = 'Alexis-Az/TinyStories'"
   ]
  },
  {
   "cell_type": "code",
   "execution_count": 10,
   "id": "4c8ac321-5d08-4fed-8055-a4ed6fda5226",
   "metadata": {},
   "outputs": [],
   "source": [
    "train_df = load_dataset(hf_repo, revision='refs/convert/parquet', data_dir='default/train')"
   ]
  },
  {
   "cell_type": "code",
   "execution_count": 11,
   "id": "19a6b046-2f81-48f8-89fd-7d9af1b53954",
   "metadata": {},
   "outputs": [],
   "source": [
    "val_df = load_dataset(hf_repo, revision='refs/convert/parquet', data_dir='default/validation')"
   ]
  },
  {
   "cell_type": "code",
   "execution_count": 12,
   "id": "66bdc63b-8f61-4b01-9aad-93a1aa9fc7bf",
   "metadata": {},
   "outputs": [
    {
     "data": {
      "text/plain": [
       "DatasetDict({\n",
       "    train: Dataset({\n",
       "        features: ['prompt', 'source', 'story', 'summary', 'unique_id', 'timestamp', 'string_words', 'string_features'],\n",
       "        num_rows: 549020\n",
       "    })\n",
       "})"
      ]
     },
     "execution_count": 12,
     "metadata": {},
     "output_type": "execute_result"
    }
   ],
   "source": [
    "val_df"
   ]
  },
  {
   "cell_type": "code",
   "execution_count": 13,
   "id": "cd2fd3b6-ecbb-485a-a75e-19322d859fa8",
   "metadata": {},
   "outputs": [],
   "source": [
    "train_df = pd.DataFrame(train_df['train'])\n",
    "val_df = pd.DataFrame(val_df['train'])"
   ]
  },
  {
   "cell_type": "markdown",
   "id": "e5093b8b-dba6-4cec-8ba8-7527c242257e",
   "metadata": {},
   "source": [
    "### Adding the data type identifiers for the pandas columns"
   ]
  },
  {
   "cell_type": "code",
   "execution_count": 14,
   "id": "e986a2b7-e30e-40ae-a1d8-bb0f33e3d81c",
   "metadata": {},
   "outputs": [],
   "source": [
    "def cast_object_to_string(data_frame):\n",
    "    for label in data_frame.columns:\n",
    "        if data_frame.dtypes[label] == \"object\":\n",
    "            data_frame[label] = data_frame[label].astype(\"str\").astype(\"string\")"
   ]
  },
  {
   "cell_type": "code",
   "execution_count": 15,
   "id": "27bbf656-2474-48a6-a70e-1699428f1eb3",
   "metadata": {},
   "outputs": [],
   "source": [
    "cast_object_to_string(train_df)\n",
    "cast_object_to_string(val_df)"
   ]
  },
  {
   "cell_type": "code",
   "execution_count": 16,
   "id": "149f64d9-3f36-4b28-9d1d-d01ea4c1db2e",
   "metadata": {},
   "outputs": [],
   "source": [
    "import time\n",
    "current_time_sec = int(round(time.time()))"
   ]
  },
  {
   "cell_type": "code",
   "execution_count": 17,
   "id": "d5f1ea88-ffd5-4979-aa2f-127c2ea22bee",
   "metadata": {},
   "outputs": [],
   "source": [
    "train_df[\"timestamp\"] = pd.Series([current_time_sec]*len(train_df), dtype=\"float64\")\n",
    "val_df[\"timestamp\"] = pd.Series([current_time_sec]*len(val_df), dtype=\"float64\")"
   ]
  },
  {
   "cell_type": "code",
   "execution_count": 18,
   "id": "1ea6682c-3260-41a4-891d-17b849b97e01",
   "metadata": {
    "scrolled": true
   },
   "outputs": [
    {
     "data": {
      "text/plain": [
       "[FeatureDefinition(feature_name='prompt', feature_type=<FeatureTypeEnum.STRING: 'String'>, collection_type=None),\n",
       " FeatureDefinition(feature_name='source', feature_type=<FeatureTypeEnum.STRING: 'String'>, collection_type=None),\n",
       " FeatureDefinition(feature_name='story', feature_type=<FeatureTypeEnum.STRING: 'String'>, collection_type=None),\n",
       " FeatureDefinition(feature_name='summary', feature_type=<FeatureTypeEnum.STRING: 'String'>, collection_type=None),\n",
       " FeatureDefinition(feature_name='unique_id', feature_type=<FeatureTypeEnum.INTEGRAL: 'Integral'>, collection_type=None),\n",
       " FeatureDefinition(feature_name='timestamp', feature_type=<FeatureTypeEnum.FRACTIONAL: 'Fractional'>, collection_type=None),\n",
       " FeatureDefinition(feature_name='string_words', feature_type=<FeatureTypeEnum.STRING: 'String'>, collection_type=None),\n",
       " FeatureDefinition(feature_name='string_features', feature_type=<FeatureTypeEnum.STRING: 'String'>, collection_type=None)]"
      ]
     },
     "execution_count": 18,
     "metadata": {},
     "output_type": "execute_result"
    }
   ],
   "source": [
    "train_feature_group.load_feature_definitions(train_df)\n",
    "val_feature_group.load_feature_definitions(val_df)"
   ]
  },
  {
   "cell_type": "code",
   "execution_count": 19,
   "id": "0f210714-3f3d-4633-8279-4eee98b46dce",
   "metadata": {},
   "outputs": [],
   "source": [
    "def clean_strings(df):\n",
    "    for label in df.columns:\n",
    "        if df.dtypes[label] == \"string\":\n",
    "            df[label] = df[label].apply(\n",
    "                lambda x: re.sub('\\n', ' ', str(x)))"
   ]
  },
  {
   "cell_type": "code",
   "execution_count": 20,
   "id": "525cd0e4-068a-4793-ac23-de8dc5049e2e",
   "metadata": {},
   "outputs": [],
   "source": [
    "clean_strings(train_df)\n",
    "clean_strings(val_df)"
   ]
  },
  {
   "cell_type": "markdown",
   "id": "1481079e-0562-4d5c-bc90-fc3378b39144",
   "metadata": {},
   "source": [
    "## Linking the Data from HF to the Database"
   ]
  },
  {
   "cell_type": "code",
   "execution_count": 21,
   "id": "fd0f4f49-6255-498f-a085-c7ae223f5872",
   "metadata": {},
   "outputs": [],
   "source": [
    "from sagemaker import get_execution_role\n",
    "\n",
    "# You can modify the following to use a role of your choosing. See the documentation for how to create this.\n",
    "role = get_execution_role()"
   ]
  },
  {
   "cell_type": "code",
   "execution_count": 22,
   "id": "1ec13af7-22a3-452d-8434-1f2dd2a27e06",
   "metadata": {},
   "outputs": [],
   "source": [
    "record_identifier_feature_name = \"unique_id\"\n",
    "event_time_feature_name = \"timestamp\""
   ]
  },
  {
   "cell_type": "code",
   "execution_count": 28,
   "id": "03a45895-1b14-4c50-89a5-73951e0b5eba",
   "metadata": {},
   "outputs": [
    {
     "name": "stdout",
     "output_type": "stream",
     "text": [
      "Waiting for Feature Group Creation\n",
      "Waiting for Feature Group Creation\n",
      "Waiting for Feature Group Creation\n",
      "FeatureGroup tinystories-train successfully created.\n",
      "Waiting for Feature Group Creation\n",
      "Waiting for Feature Group Creation\n",
      "Waiting for Feature Group Creation\n",
      "Waiting for Feature Group Creation\n",
      "FeatureGroup tinystories-val successfully created.\n"
     ]
    }
   ],
   "source": [
    "def wait_for_feature_group_creation_complete(feature_group):\n",
    "    status = feature_group.describe().get(\"FeatureGroupStatus\")\n",
    "    while status == \"Creating\":\n",
    "        print(\"Waiting for Feature Group Creation\")\n",
    "        time.sleep(5)\n",
    "        status = feature_group.describe().get(\"FeatureGroupStatus\")\n",
    "    if status != \"Created\":\n",
    "        raise RuntimeError(f\"Failed to create feature group {feature_group.name}\")\n",
    "    print(f\"FeatureGroup {feature_group.name} successfully created.\")\n",
    "\n",
    "\n",
    "train_feature_group.create(\n",
    "    s3_uri=f\"s3://{default_s3_bucket_name}/{prefix}\",\n",
    "    record_identifier_name=record_identifier_feature_name,\n",
    "    event_time_feature_name=event_time_feature_name,\n",
    "    role_arn=role,\n",
    "    enable_online_store=True,\n",
    ")\n",
    "\n",
    "val_feature_group.create(\n",
    "    s3_uri=f\"s3://{default_s3_bucket_name}/{prefix}\",\n",
    "    record_identifier_name=record_identifier_feature_name,\n",
    "    event_time_feature_name=event_time_feature_name,\n",
    "    role_arn=role,\n",
    "    enable_online_store=True,\n",
    ")\n",
    "\n",
    "wait_for_feature_group_creation_complete(feature_group=train_feature_group)\n",
    "wait_for_feature_group_creation_complete(feature_group=val_feature_group)"
   ]
  },
  {
   "cell_type": "code",
   "execution_count": 24,
   "id": "f9155b10-c6d2-47ff-b466-9fd82ecf85c2",
   "metadata": {},
   "outputs": [
    {
     "data": {
      "text/plain": [
       "'s3://sagemaker-us-east-1-597161074694/tinystories'"
      ]
     },
     "execution_count": 24,
     "metadata": {},
     "output_type": "execute_result"
    }
   ],
   "source": [
    "output_dir = f\"s3://{default_s3_bucket_name}/{prefix}\"\n",
    "output_dir"
   ]
  },
  {
   "cell_type": "markdown",
   "id": "02b00943-69e4-41a8-aef7-f6a232964f8a",
   "metadata": {},
   "source": [
    "### Uploading to AWS GlueDB"
   ]
  },
  {
   "cell_type": "code",
   "execution_count": 31,
   "id": "9d8fa685-0dc1-4a5b-a561-51b86bb94568",
   "metadata": {
    "scrolled": true
   },
   "outputs": [
    {
     "data": {
      "text/plain": [
       "IngestionManagerPandas(feature_group_name='tinystories-train', feature_definitions={'prompt': {'FeatureName': 'prompt', 'FeatureType': 'String'}, 'source': {'FeatureName': 'source', 'FeatureType': 'String'}, 'story': {'FeatureName': 'story', 'FeatureType': 'String'}, 'summary': {'FeatureName': 'summary', 'FeatureType': 'String'}, 'unique_id': {'FeatureName': 'unique_id', 'FeatureType': 'Integral'}, 'timestamp': {'FeatureName': 'timestamp', 'FeatureType': 'Fractional'}, 'string_features': {'FeatureName': 'string_features', 'FeatureType': 'String'}, 'string_words': {'FeatureName': 'string_words', 'FeatureType': 'String'}}, sagemaker_fs_runtime_client_config=<botocore.config.Config object at 0x7f4b498dccd0>, sagemaker_session=<sagemaker.session.Session object at 0x7f4b498df1d0>, max_workers=100, max_processes=1, profile_name=None, _async_result=<multiprocess.pool.MapResult object at 0x7f4a25bea9d0>, _processing_pool=<pool ProcessPool(ncpus=1)>, _failed_indices=[])"
      ]
     },
     "execution_count": 31,
     "metadata": {},
     "output_type": "execute_result"
    }
   ],
   "source": [
    "#saving the data from the huggingface repo to aws\n",
    "train_feature_group.ingest(data_frame=train_df, max_workers=100, wait=True)"
   ]
  },
  {
   "cell_type": "code",
   "execution_count": 32,
   "id": "aded4597-9803-4b4b-9268-bff43c09ea55",
   "metadata": {},
   "outputs": [
    {
     "data": {
      "text/plain": [
       "IngestionManagerPandas(feature_group_name='tinystories-val', feature_definitions={'prompt': {'FeatureName': 'prompt', 'FeatureType': 'String'}, 'source': {'FeatureName': 'source', 'FeatureType': 'String'}, 'story': {'FeatureName': 'story', 'FeatureType': 'String'}, 'summary': {'FeatureName': 'summary', 'FeatureType': 'String'}, 'unique_id': {'FeatureName': 'unique_id', 'FeatureType': 'Integral'}, 'timestamp': {'FeatureName': 'timestamp', 'FeatureType': 'Fractional'}, 'string_words': {'FeatureName': 'string_words', 'FeatureType': 'String'}, 'string_features': {'FeatureName': 'string_features', 'FeatureType': 'String'}}, sagemaker_fs_runtime_client_config=<botocore.config.Config object at 0x7f4b498dccd0>, sagemaker_session=<sagemaker.session.Session object at 0x7f4b498df1d0>, max_workers=100, max_processes=1, profile_name=None, _async_result=<multiprocess.pool.MapResult object at 0x7f4ab8f39150>, _processing_pool=<pool ProcessPool(ncpus=1)>, _failed_indices=[])"
      ]
     },
     "execution_count": 32,
     "metadata": {},
     "output_type": "execute_result"
    }
   ],
   "source": [
    "#saving the data from the huggingface repo to aws\n",
    "val_feature_group.ingest(data_frame=val_df, max_workers=100, wait=True)"
   ]
  },
  {
   "cell_type": "markdown",
   "id": "1a62cab9-0495-40fb-a83c-f5a66eeae2e4",
   "metadata": {},
   "source": [
    "## Sample Query of the Data"
   ]
  },
  {
   "cell_type": "code",
   "execution_count": 33,
   "id": "c92be1a2-3841-43b5-859f-15b01363a609",
   "metadata": {},
   "outputs": [],
   "source": [
    "train_query = train_feature_group.athena_query()\n",
    "train_table = train_query.table_name"
   ]
  },
  {
   "cell_type": "code",
   "execution_count": 34,
   "id": "11e46bcc-97c2-40e1-995f-0d78324783bc",
   "metadata": {},
   "outputs": [],
   "source": [
    "val_query = val_feature_group.athena_query()\n",
    "val_table = val_query.table_name"
   ]
  },
  {
   "cell_type": "code",
   "execution_count": 35,
   "id": "6a31e94d-2205-486b-96f2-1793ab32ab31",
   "metadata": {},
   "outputs": [
    {
     "name": "stdout",
     "output_type": "stream",
     "text": [
      "Running SELECT * FROM \"tinystories_train_1739832791\"LIMIT 100;\n"
     ]
    }
   ],
   "source": [
    "query_string = (\n",
    "    'SELECT * FROM \"'\n",
    "    + train_table\n",
    "    + '\"LIMIT 100;'\n",
    ")\n",
    "print(\"Running \" + query_string)"
   ]
  },
  {
   "cell_type": "code",
   "execution_count": 36,
   "id": "9fc341c8-00a0-4fa1-ab32-d9dd60d25400",
   "metadata": {},
   "outputs": [],
   "source": [
    "train_query.run(\n",
    "    query_string=query_string,\n",
    "    output_location=\"s3://\" + default_s3_bucket_name + \"/\" + prefix + \"/query_results/\",\n",
    ")\n",
    "train_query.wait()\n",
    "dataset = train_query.as_dataframe()"
   ]
  },
  {
   "cell_type": "code",
   "execution_count": 38,
   "id": "08e12160-20f4-465a-8f39-1714540d8361",
   "metadata": {},
   "outputs": [
    {
     "data": {
      "text/html": [
       "<div>\n",
       "<style scoped>\n",
       "    .dataframe tbody tr th:only-of-type {\n",
       "        vertical-align: middle;\n",
       "    }\n",
       "\n",
       "    .dataframe tbody tr th {\n",
       "        vertical-align: top;\n",
       "    }\n",
       "\n",
       "    .dataframe thead th {\n",
       "        text-align: right;\n",
       "    }\n",
       "</style>\n",
       "<table border=\"1\" class=\"dataframe\">\n",
       "  <thead>\n",
       "    <tr style=\"text-align: right;\">\n",
       "      <th></th>\n",
       "      <th>prompt</th>\n",
       "      <th>source</th>\n",
       "      <th>story</th>\n",
       "      <th>summary</th>\n",
       "      <th>unique_id</th>\n",
       "      <th>timestamp</th>\n",
       "      <th>string_features</th>\n",
       "      <th>string_words</th>\n",
       "      <th>write_time</th>\n",
       "      <th>api_invocation_time</th>\n",
       "      <th>is_deleted</th>\n",
       "    </tr>\n",
       "  </thead>\n",
       "  <tbody>\n",
       "    <tr>\n",
       "      <th>42</th>\n",
       "      <td>Write a short story (3-5 paragraphs) which onl...</td>\n",
       "      <td>GPT-4</td>\n",
       "      <td>Once upon a time, there was a man and a woman....</td>\n",
       "      <td>A married couple has fights but decides to sav...</td>\n",
       "      <td>8590208090</td>\n",
       "      <td>1.739831e+09</td>\n",
       "      <td>narrative features: Dialogue</td>\n",
       "      <td>vocabulary features: save, marriage, tidy</td>\n",
       "      <td>2025-02-17 23:56:07.941</td>\n",
       "      <td>2025-02-17 23:51:09.000</td>\n",
       "      <td>False</td>\n",
       "    </tr>\n",
       "    <tr>\n",
       "      <th>49</th>\n",
       "      <td>Write a short story (3-5 paragraphs) which onl...</td>\n",
       "      <td>GPT-4</td>\n",
       "      <td>Once upon a time, there was a little brown dog...</td>\n",
       "      <td>Buddy, a little brown dog, helps his family by...</td>\n",
       "      <td>25769817194</td>\n",
       "      <td>1.739831e+09</td>\n",
       "      <td>narrative features: Dialogue, Conflict, MoralV...</td>\n",
       "      <td>vocabulary features: fix, emergency, brown</td>\n",
       "      <td>2025-02-17 23:56:07.941</td>\n",
       "      <td>2025-02-17 23:51:10.000</td>\n",
       "      <td>False</td>\n",
       "    </tr>\n",
       "    <tr>\n",
       "      <th>44</th>\n",
       "      <td>Write a short story (3-5 paragraphs) which onl...</td>\n",
       "      <td>GPT-4</td>\n",
       "      <td>Lila and Ben liked to play in the garden. They...</td>\n",
       "      <td>Lila and Ben raised a dragon named Flap, but h...</td>\n",
       "      <td>8589977991</td>\n",
       "      <td>1.739831e+09</td>\n",
       "      <td>narrative features:</td>\n",
       "      <td>vocabulary features: raise, dragon, hungry</td>\n",
       "      <td>2025-02-17 23:56:07.941</td>\n",
       "      <td>2025-02-17 23:51:10.000</td>\n",
       "      <td>False</td>\n",
       "    </tr>\n",
       "    <tr>\n",
       "      <th>29</th>\n",
       "      <td>Write a short story (3-5 paragraphs) which onl...</td>\n",
       "      <td>GPT-4</td>\n",
       "      <td>Sara loved to play with her dolls. She had man...</td>\n",
       "      <td>Sara steals a magic wand from a store and acci...</td>\n",
       "      <td>17179967172</td>\n",
       "      <td>1.739831e+09</td>\n",
       "      <td>narrative features: MoralValue, Foreshadowing</td>\n",
       "      <td>vocabulary features: shrink, spirit, ashamed</td>\n",
       "      <td>2025-02-17 23:56:07.941</td>\n",
       "      <td>2025-02-17 23:51:09.000</td>\n",
       "      <td>False</td>\n",
       "    </tr>\n",
       "    <tr>\n",
       "      <th>22</th>\n",
       "      <td>Write a short story (3-5 paragraphs) which onl...</td>\n",
       "      <td>GPT-4</td>\n",
       "      <td>Lily and Ben are twins. They like to play with...</td>\n",
       "      <td>Lily and Ben try cauliflower soup for the firs...</td>\n",
       "      <td>8590068237</td>\n",
       "      <td>1.739831e+09</td>\n",
       "      <td>narrative features: Dialogue</td>\n",
       "      <td>vocabulary features: do, cauliflower, comfortable</td>\n",
       "      <td>2025-02-17 23:56:07.941</td>\n",
       "      <td>2025-02-17 23:51:08.000</td>\n",
       "      <td>False</td>\n",
       "    </tr>\n",
       "  </tbody>\n",
       "</table>\n",
       "</div>"
      ],
      "text/plain": [
       "                                               prompt source  \\\n",
       "42  Write a short story (3-5 paragraphs) which onl...  GPT-4   \n",
       "49  Write a short story (3-5 paragraphs) which onl...  GPT-4   \n",
       "44  Write a short story (3-5 paragraphs) which onl...  GPT-4   \n",
       "29  Write a short story (3-5 paragraphs) which onl...  GPT-4   \n",
       "22  Write a short story (3-5 paragraphs) which onl...  GPT-4   \n",
       "\n",
       "                                                story  \\\n",
       "42  Once upon a time, there was a man and a woman....   \n",
       "49  Once upon a time, there was a little brown dog...   \n",
       "44  Lila and Ben liked to play in the garden. They...   \n",
       "29  Sara loved to play with her dolls. She had man...   \n",
       "22  Lily and Ben are twins. They like to play with...   \n",
       "\n",
       "                                              summary    unique_id  \\\n",
       "42  A married couple has fights but decides to sav...   8590208090   \n",
       "49  Buddy, a little brown dog, helps his family by...  25769817194   \n",
       "44  Lila and Ben raised a dragon named Flap, but h...   8589977991   \n",
       "29  Sara steals a magic wand from a store and acci...  17179967172   \n",
       "22  Lily and Ben try cauliflower soup for the firs...   8590068237   \n",
       "\n",
       "       timestamp                                    string_features  \\\n",
       "42  1.739831e+09                       narrative features: Dialogue   \n",
       "49  1.739831e+09  narrative features: Dialogue, Conflict, MoralV...   \n",
       "44  1.739831e+09                               narrative features:    \n",
       "29  1.739831e+09      narrative features: MoralValue, Foreshadowing   \n",
       "22  1.739831e+09                       narrative features: Dialogue   \n",
       "\n",
       "                                         string_words  \\\n",
       "42          vocabulary features: save, marriage, tidy   \n",
       "49         vocabulary features: fix, emergency, brown   \n",
       "44         vocabulary features: raise, dragon, hungry   \n",
       "29       vocabulary features: shrink, spirit, ashamed   \n",
       "22  vocabulary features: do, cauliflower, comfortable   \n",
       "\n",
       "                 write_time      api_invocation_time  is_deleted  \n",
       "42  2025-02-17 23:56:07.941  2025-02-17 23:51:09.000       False  \n",
       "49  2025-02-17 23:56:07.941  2025-02-17 23:51:10.000       False  \n",
       "44  2025-02-17 23:56:07.941  2025-02-17 23:51:10.000       False  \n",
       "29  2025-02-17 23:56:07.941  2025-02-17 23:51:09.000       False  \n",
       "22  2025-02-17 23:56:07.941  2025-02-17 23:51:08.000       False  "
      ]
     },
     "execution_count": 38,
     "metadata": {},
     "output_type": "execute_result"
    }
   ],
   "source": [
    "dataset.sample(5)"
   ]
  },
  {
   "cell_type": "code",
   "execution_count": 39,
   "id": "4405a863-84dd-47f1-8d4c-6d2ca0fc6d73",
   "metadata": {},
   "outputs": [
    {
     "name": "stdout",
     "output_type": "stream",
     "text": [
      "tinystories_train_1739832791\n",
      "tinystories_val_1739832793\n"
     ]
    }
   ],
   "source": [
    "#the names of the tables in gluedb\n",
    "print(train_table)\n",
    "print(val_table)"
   ]
  }
 ],
 "metadata": {
  "kernelspec": {
   "display_name": "Python 3 (ipykernel)",
   "language": "python",
   "name": "python3"
  },
  "language_info": {
   "codemirror_mode": {
    "name": "ipython",
    "version": 3
   },
   "file_extension": ".py",
   "mimetype": "text/x-python",
   "name": "python",
   "nbconvert_exporter": "python",
   "pygments_lexer": "ipython3",
   "version": "3.11.11"
  }
 },
 "nbformat": 4,
 "nbformat_minor": 5
}
