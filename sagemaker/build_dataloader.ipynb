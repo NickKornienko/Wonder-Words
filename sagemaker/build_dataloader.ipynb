{
 "cells": [
  {
   "cell_type": "code",
   "execution_count": 10,
   "id": "53000991-ffa1-4a36-9b76-40200eb98e51",
   "metadata": {},
   "outputs": [],
   "source": [
    "import boto3\n",
    "import sagemaker\n",
    "from sagemaker.feature_store.feature_group import FeatureGroup"
   ]
  },
  {
   "cell_type": "code",
   "execution_count": 11,
   "id": "6ec33a44-5935-4652-a021-83222c58003c",
   "metadata": {},
   "outputs": [
    {
     "name": "stdout",
     "output_type": "stream",
     "text": [
      "597161074694\n"
     ]
    }
   ],
   "source": [
    "account_id = boto3.client(\"sts\").get_caller_identity()[\"Account\"]\n",
    "print(account_id)"
   ]
  },
  {
   "cell_type": "markdown",
   "id": "efb1b1c5-735c-4165-8113-e96878f505e0",
   "metadata": {},
   "source": [
    "## Instantiating Sagemaker Feature Group / Database Object"
   ]
  },
  {
   "cell_type": "code",
   "execution_count": 12,
   "id": "a96461cc-7ee1-4081-aaa1-5272e9c4f776",
   "metadata": {},
   "outputs": [],
   "source": [
    "from sagemaker.session import Session\n",
    "\n",
    "region = boto3.Session().region_name\n",
    "\n",
    "boto_session = boto3.Session(region_name=region)\n",
    "\n",
    "sagemaker_client = boto_session.client(service_name=\"sagemaker\", region_name=region)\n",
    "featurestore_runtime = boto_session.client(\n",
    "    service_name=\"sagemaker-featurestore-runtime\", region_name=region\n",
    ")"
   ]
  },
  {
   "cell_type": "code",
   "execution_count": 16,
   "id": "522b7b43-1cc8-4705-9595-c1afe9244304",
   "metadata": {},
   "outputs": [],
   "source": [
    "feature_store_session = Session(\n",
    "    boto_session=boto_session,\n",
    "    sagemaker_client=sagemaker_client,\n",
    "    sagemaker_featurestore_runtime_client=featurestore_runtime,\n",
    ")"
   ]
  },
  {
   "cell_type": "code",
   "execution_count": 17,
   "id": "fa199470-46d8-4c7f-b056-40bf04ee7f49",
   "metadata": {},
   "outputs": [],
   "source": [
    "default_s3_bucket_name = feature_store_session.default_bucket()\n",
    "prefix = \"tinystories\""
   ]
  },
  {
   "cell_type": "code",
   "execution_count": 18,
   "id": "e7721ce1-0cd5-436c-ab61-fad0d54ac4b9",
   "metadata": {},
   "outputs": [],
   "source": [
    "train_fg = 'tinystories-train'\n",
    "val_fg = 'tinystories-val'"
   ]
  },
  {
   "cell_type": "code",
   "execution_count": 19,
   "id": "71edff18-5d78-4260-a196-d2af979d9767",
   "metadata": {},
   "outputs": [],
   "source": [
    "train_feature_group = FeatureGroup(\n",
    "    name=train_fg, sagemaker_session=feature_store_session\n",
    ")\n",
    "val_feature_group = FeatureGroup(\n",
    "    name=val_fg, sagemaker_session=feature_store_session\n",
    ")"
   ]
  },
  {
   "cell_type": "markdown",
   "id": "1481079e-0562-4d5c-bc90-fc3378b39144",
   "metadata": {},
   "source": [
    "## Linking the Data from HF to the Database"
   ]
  },
  {
   "cell_type": "code",
   "execution_count": null,
   "id": "2bab6df4-cb34-449c-ac5b-e09493d447eb",
   "metadata": {},
   "outputs": [],
   "source": []
  },
  {
   "cell_type": "markdown",
   "id": "1a62cab9-0495-40fb-a83c-f5a66eeae2e4",
   "metadata": {},
   "source": [
    "## Sample Query of the Data"
   ]
  },
  {
   "cell_type": "code",
   "execution_count": 20,
   "id": "c92be1a2-3841-43b5-859f-15b01363a609",
   "metadata": {},
   "outputs": [],
   "source": [
    "train_query = train_feature_group.athena_query()\n",
    "train_table = train_query.table_name"
   ]
  },
  {
   "cell_type": "code",
   "execution_count": 21,
   "id": "11e46bcc-97c2-40e1-995f-0d78324783bc",
   "metadata": {},
   "outputs": [],
   "source": [
    "val_query = val_feature_group.athena_query()\n",
    "val_table = val_query.table_name"
   ]
  },
  {
   "cell_type": "code",
   "execution_count": 22,
   "id": "6a31e94d-2205-486b-96f2-1793ab32ab31",
   "metadata": {},
   "outputs": [
    {
     "name": "stdout",
     "output_type": "stream",
     "text": [
      "Running SELECT * FROM \"tinystories_train_1739823439\"LIMIT 100;\n"
     ]
    }
   ],
   "source": [
    "query_string = (\n",
    "    'SELECT * FROM \"'\n",
    "    + train_table\n",
    "    + '\"LIMIT 100;'\n",
    ")\n",
    "print(\"Running \" + query_string)"
   ]
  },
  {
   "cell_type": "code",
   "execution_count": 23,
   "id": "9fc341c8-00a0-4fa1-ab32-d9dd60d25400",
   "metadata": {},
   "outputs": [],
   "source": [
    "train_query.run(\n",
    "    query_string=query_string,\n",
    "    output_location=\"s3://\" + default_s3_bucket_name + \"/\" + prefix + \"/query_results/\",\n",
    ")\n",
    "train_query.wait()\n",
    "dataset = train_query.as_dataframe()"
   ]
  },
  {
   "cell_type": "code",
   "execution_count": 24,
   "id": "08e12160-20f4-465a-8f39-1714540d8361",
   "metadata": {},
   "outputs": [
    {
     "data": {
      "text/html": [
       "<div>\n",
       "<style scoped>\n",
       "    .dataframe tbody tr th:only-of-type {\n",
       "        vertical-align: middle;\n",
       "    }\n",
       "\n",
       "    .dataframe tbody tr th {\n",
       "        vertical-align: top;\n",
       "    }\n",
       "\n",
       "    .dataframe thead th {\n",
       "        text-align: right;\n",
       "    }\n",
       "</style>\n",
       "<table border=\"1\" class=\"dataframe\">\n",
       "  <thead>\n",
       "    <tr style=\"text-align: right;\">\n",
       "      <th></th>\n",
       "      <th>prompt</th>\n",
       "      <th>source</th>\n",
       "      <th>story</th>\n",
       "      <th>summary</th>\n",
       "      <th>unique_id</th>\n",
       "      <th>timestamp</th>\n",
       "      <th>string_features</th>\n",
       "      <th>string_words</th>\n",
       "      <th>write_time</th>\n",
       "      <th>api_invocation_time</th>\n",
       "      <th>is_deleted</th>\n",
       "    </tr>\n",
       "  </thead>\n",
       "  <tbody>\n",
       "  </tbody>\n",
       "</table>\n",
       "</div>"
      ],
      "text/plain": [
       "Empty DataFrame\n",
       "Columns: [prompt, source, story, summary, unique_id, timestamp, string_features, string_words, write_time, api_invocation_time, is_deleted]\n",
       "Index: []"
      ]
     },
     "execution_count": 24,
     "metadata": {},
     "output_type": "execute_result"
    }
   ],
   "source": [
    "dataset"
   ]
  },
  {
   "cell_type": "code",
   "execution_count": 19,
   "id": "6f34ffec-efdd-4911-bdca-c4e2d2ee249c",
   "metadata": {},
   "outputs": [
    {
     "data": {
      "text/plain": [
       "dict_items([('ResponseMetadata', {'RequestId': 'e36f9924-6701-4b2d-8173-f8d8e64baecb', 'HTTPStatusCode': 200, 'HTTPHeaders': {'x-amzn-requestid': 'e36f9924-6701-4b2d-8173-f8d8e64baecb', 'content-type': 'application/json', 'content-length': '54', 'date': 'Fri, 14 Feb 2025 03:32:12 GMT'}, 'RetryAttempts': 0}), ('Records', []), ('Errors', []), ('UnprocessedIdentifiers', [])])"
      ]
     },
     "execution_count": 19,
     "metadata": {},
     "output_type": "execute_result"
    }
   ],
   "source": [
    "featurestore_runtime.batch_get_record(\n",
    "    Identifiers=[\n",
    "        {\n",
    "            \"FeatureGroupName\": train_fg,\n",
    "            \"RecordIdentifiersValueAsString\": [\"1\"],\n",
    "        },\n",
    "        {\n",
    "            \"FeatureGroupName\": val_fg,\n",
    "            \"RecordIdentifiersValueAsString\": [\"1\"],\n",
    "        },\n",
    "    ]\n",
    ").items()"
   ]
  },
  {
   "cell_type": "code",
   "execution_count": null,
   "id": "4405a863-84dd-47f1-8d4c-6d2ca0fc6d73",
   "metadata": {},
   "outputs": [],
   "source": []
  }
 ],
 "metadata": {
  "kernelspec": {
   "display_name": "Python 3 (ipykernel)",
   "language": "python",
   "name": "python3"
  },
  "language_info": {
   "codemirror_mode": {
    "name": "ipython",
    "version": 3
   },
   "file_extension": ".py",
   "mimetype": "text/x-python",
   "name": "python",
   "nbconvert_exporter": "python",
   "pygments_lexer": "ipython3",
   "version": "3.11.11"
  }
 },
 "nbformat": 4,
 "nbformat_minor": 5
}
